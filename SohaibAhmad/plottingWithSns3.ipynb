{
 "metadata": {
  "language_info": {
   "codemirror_mode": {
    "name": "ipython",
    "version": 3
   },
   "file_extension": ".py",
   "mimetype": "text/x-python",
   "name": "python",
   "nbconvert_exporter": "python",
   "pygments_lexer": "ipython3",
   "version": "3.7.6-final"
  },
  "orig_nbformat": 2,
  "kernelspec": {
   "name": "python3",
   "display_name": "Python 3"
  }
 },
 "nbformat": 4,
 "nbformat_minor": 2,
 "cells": [
  {
   "cell_type": "code",
   "execution_count": 2,
   "metadata": {},
   "outputs": [],
   "source": [
    "import pandas as pd \n",
    "import seaborn as sns\n",
    "import datetime as dt\n",
    "import pandas_datareader as web"
   ]
  },
  {
   "cell_type": "code",
   "execution_count": 3,
   "metadata": {},
   "outputs": [],
   "source": [
    "start = dt.datetime(2000,1,1)\n",
    "end = dt.datetime.today()"
   ]
  },
  {
   "cell_type": "code",
   "execution_count": 4,
   "metadata": {},
   "outputs": [
    {
     "output_type": "execute_result",
     "data": {
      "text/plain": "                   High          Low         Open        Close      Volume  \\\nDate                                                                         \n2000-01-03  1478.000000  1438.359985  1469.250000  1455.219971   931800000   \n2000-01-04  1455.219971  1397.430054  1455.219971  1399.420044  1009000000   \n2000-01-05  1413.270020  1377.680054  1399.420044  1402.109985  1085500000   \n2000-01-06  1411.900024  1392.099976  1402.109985  1403.449951  1092300000   \n2000-01-07  1441.469971  1400.729980  1403.449951  1441.469971  1225200000   \n...                 ...          ...          ...          ...         ...   \n2020-08-12  3387.889893  3355.459961  3355.459961  3380.350098  3768560000   \n2020-08-13  3387.239990  3363.350098  3372.949951  3373.429932  3648810000   \n2020-08-14  3378.510010  3361.639893  3368.659912  3372.850098  3193400000   \n2020-08-17  3387.590088  3379.219971  3380.860107  3381.989990  3671290000   \n2020-08-18  3395.060059  3370.149902  3387.040039  3391.250000   946776067   \n\n              Adj Close  \nDate                     \n2000-01-03  1455.219971  \n2000-01-04  1399.420044  \n2000-01-05  1402.109985  \n2000-01-06  1403.449951  \n2000-01-07  1441.469971  \n...                 ...  \n2020-08-12  3380.350098  \n2020-08-13  3373.429932  \n2020-08-14  3372.850098  \n2020-08-17  3381.989990  \n2020-08-18  3391.250000  \n\n[5190 rows x 6 columns]",
      "text/html": "<div>\n<style scoped>\n    .dataframe tbody tr th:only-of-type {\n        vertical-align: middle;\n    }\n\n    .dataframe tbody tr th {\n        vertical-align: top;\n    }\n\n    .dataframe thead th {\n        text-align: right;\n    }\n</style>\n<table border=\"1\" class=\"dataframe\">\n  <thead>\n    <tr style=\"text-align: right;\">\n      <th></th>\n      <th>High</th>\n      <th>Low</th>\n      <th>Open</th>\n      <th>Close</th>\n      <th>Volume</th>\n      <th>Adj Close</th>\n    </tr>\n    <tr>\n      <th>Date</th>\n      <th></th>\n      <th></th>\n      <th></th>\n      <th></th>\n      <th></th>\n      <th></th>\n    </tr>\n  </thead>\n  <tbody>\n    <tr>\n      <th>2000-01-03</th>\n      <td>1478.000000</td>\n      <td>1438.359985</td>\n      <td>1469.250000</td>\n      <td>1455.219971</td>\n      <td>931800000</td>\n      <td>1455.219971</td>\n    </tr>\n    <tr>\n      <th>2000-01-04</th>\n      <td>1455.219971</td>\n      <td>1397.430054</td>\n      <td>1455.219971</td>\n      <td>1399.420044</td>\n      <td>1009000000</td>\n      <td>1399.420044</td>\n    </tr>\n    <tr>\n      <th>2000-01-05</th>\n      <td>1413.270020</td>\n      <td>1377.680054</td>\n      <td>1399.420044</td>\n      <td>1402.109985</td>\n      <td>1085500000</td>\n      <td>1402.109985</td>\n    </tr>\n    <tr>\n      <th>2000-01-06</th>\n      <td>1411.900024</td>\n      <td>1392.099976</td>\n      <td>1402.109985</td>\n      <td>1403.449951</td>\n      <td>1092300000</td>\n      <td>1403.449951</td>\n    </tr>\n    <tr>\n      <th>2000-01-07</th>\n      <td>1441.469971</td>\n      <td>1400.729980</td>\n      <td>1403.449951</td>\n      <td>1441.469971</td>\n      <td>1225200000</td>\n      <td>1441.469971</td>\n    </tr>\n    <tr>\n      <th>...</th>\n      <td>...</td>\n      <td>...</td>\n      <td>...</td>\n      <td>...</td>\n      <td>...</td>\n      <td>...</td>\n    </tr>\n    <tr>\n      <th>2020-08-12</th>\n      <td>3387.889893</td>\n      <td>3355.459961</td>\n      <td>3355.459961</td>\n      <td>3380.350098</td>\n      <td>3768560000</td>\n      <td>3380.350098</td>\n    </tr>\n    <tr>\n      <th>2020-08-13</th>\n      <td>3387.239990</td>\n      <td>3363.350098</td>\n      <td>3372.949951</td>\n      <td>3373.429932</td>\n      <td>3648810000</td>\n      <td>3373.429932</td>\n    </tr>\n    <tr>\n      <th>2020-08-14</th>\n      <td>3378.510010</td>\n      <td>3361.639893</td>\n      <td>3368.659912</td>\n      <td>3372.850098</td>\n      <td>3193400000</td>\n      <td>3372.850098</td>\n    </tr>\n    <tr>\n      <th>2020-08-17</th>\n      <td>3387.590088</td>\n      <td>3379.219971</td>\n      <td>3380.860107</td>\n      <td>3381.989990</td>\n      <td>3671290000</td>\n      <td>3381.989990</td>\n    </tr>\n    <tr>\n      <th>2020-08-18</th>\n      <td>3395.060059</td>\n      <td>3370.149902</td>\n      <td>3387.040039</td>\n      <td>3391.250000</td>\n      <td>946776067</td>\n      <td>3391.250000</td>\n    </tr>\n  </tbody>\n</table>\n<p>5190 rows × 6 columns</p>\n</div>"
     },
     "metadata": {},
     "execution_count": 4
    }
   ],
   "source": [
    "df = web.DataReader(\"^GSPC\", 'yahoo', start, end)\n",
    "df"
   ]
  },
  {
   "cell_type": "code",
   "execution_count": null,
   "metadata": {},
   "outputs": [],
   "source": [
    "df['pct_change'] = df['Adj Close'].pct_change()df==="
   ]
  },
  {
   "cell_type": "code",
   "execution_count": null,
   "metadata": {},
   "outputs": [],
   "source": []
  }
 ]
}