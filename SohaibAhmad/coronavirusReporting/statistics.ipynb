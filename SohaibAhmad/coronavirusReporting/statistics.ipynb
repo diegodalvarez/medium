{
 "cells": [
  {
   "cell_type": "code",
   "execution_count": 28,
   "metadata": {},
   "outputs": [],
   "source": [
    "import pandas as pd \n",
    "import matplotlib.pyplot as plt"
   ]
  },
  {
   "cell_type": "code",
   "execution_count": 29,
   "metadata": {},
   "outputs": [],
   "source": [
    "#this makes a list of countries\n",
    "eu_list = ['United Kingdom', 'France', 'Germany', 'Spain', 'Italy', 'Sweden']"
   ]
  },
  {
   "cell_type": "code",
   "execution_count": 30,
   "metadata": {},
   "outputs": [],
   "source": [
    "#this downloads the data from john hopkins\n",
    "fp = 'https://data.humdata.org/hxlproxy/api/data-preview.csv?url=https%3A%2F%2Fraw.githubusercontent.com%2FCSSEGISandData%2FCOVID-19%2Fmaster%2Fcsse_covid_19_data%2Fcsse_covid_19_time_series%2Ftime_series_covid19_confirmed_global.csv&filename=time_series_covid19_confirmed_global.csv'\n",
    "df = pd.read_csv(fp).drop(['Province/State','Lat','Long'],axis=1)"
   ]
  },
  {
   "cell_type": "code",
   "execution_count": 31,
   "metadata": {},
   "outputs": [
    {
     "output_type": "execute_result",
     "data": {
      "text/plain": "            Country/Region  1/22/20  1/23/20  1/24/20  1/25/20  1/26/20  \\\n261  Sao Tome and Principe        0        0        0        0        0   \n262                  Yemen        0        0        0        0        0   \n263                Comoros        0        0        0        0        0   \n264             Tajikistan        0        0        0        0        0   \n265                Lesotho        0        0        0        0        0   \n\n     1/27/20  1/28/20  1/29/20  1/30/20  ...  6/29/20  6/30/20  7/1/20  \\\n261        0        0        0        0  ...      713      714     715   \n262        0        0        0        0  ...     1128     1158    1190   \n263        0        0        0        0  ...      272      303     303   \n264        0        0        0        0  ...     5900     5900    6005   \n265        0        0        0        0  ...       27       27      35   \n\n     7/2/20  7/3/20  7/4/20  7/5/20  7/6/20  7/7/20  7/8/20  \n261     717     719     719     720     721     724     724  \n262    1221    1240    1248    1265    1284    1297    1318  \n263     303     309     309     311     311     311     313  \n264    6058    6058    6159    6213    6262    6315    6364  \n265      35      35      35      79      91      91      91  \n\n[5 rows x 170 columns]",
      "text/html": "<div>\n<style scoped>\n    .dataframe tbody tr th:only-of-type {\n        vertical-align: middle;\n    }\n\n    .dataframe tbody tr th {\n        vertical-align: top;\n    }\n\n    .dataframe thead th {\n        text-align: right;\n    }\n</style>\n<table border=\"1\" class=\"dataframe\">\n  <thead>\n    <tr style=\"text-align: right;\">\n      <th></th>\n      <th>Country/Region</th>\n      <th>1/22/20</th>\n      <th>1/23/20</th>\n      <th>1/24/20</th>\n      <th>1/25/20</th>\n      <th>1/26/20</th>\n      <th>1/27/20</th>\n      <th>1/28/20</th>\n      <th>1/29/20</th>\n      <th>1/30/20</th>\n      <th>...</th>\n      <th>6/29/20</th>\n      <th>6/30/20</th>\n      <th>7/1/20</th>\n      <th>7/2/20</th>\n      <th>7/3/20</th>\n      <th>7/4/20</th>\n      <th>7/5/20</th>\n      <th>7/6/20</th>\n      <th>7/7/20</th>\n      <th>7/8/20</th>\n    </tr>\n  </thead>\n  <tbody>\n    <tr>\n      <th>261</th>\n      <td>Sao Tome and Principe</td>\n      <td>0</td>\n      <td>0</td>\n      <td>0</td>\n      <td>0</td>\n      <td>0</td>\n      <td>0</td>\n      <td>0</td>\n      <td>0</td>\n      <td>0</td>\n      <td>...</td>\n      <td>713</td>\n      <td>714</td>\n      <td>715</td>\n      <td>717</td>\n      <td>719</td>\n      <td>719</td>\n      <td>720</td>\n      <td>721</td>\n      <td>724</td>\n      <td>724</td>\n    </tr>\n    <tr>\n      <th>262</th>\n      <td>Yemen</td>\n      <td>0</td>\n      <td>0</td>\n      <td>0</td>\n      <td>0</td>\n      <td>0</td>\n      <td>0</td>\n      <td>0</td>\n      <td>0</td>\n      <td>0</td>\n      <td>...</td>\n      <td>1128</td>\n      <td>1158</td>\n      <td>1190</td>\n      <td>1221</td>\n      <td>1240</td>\n      <td>1248</td>\n      <td>1265</td>\n      <td>1284</td>\n      <td>1297</td>\n      <td>1318</td>\n    </tr>\n    <tr>\n      <th>263</th>\n      <td>Comoros</td>\n      <td>0</td>\n      <td>0</td>\n      <td>0</td>\n      <td>0</td>\n      <td>0</td>\n      <td>0</td>\n      <td>0</td>\n      <td>0</td>\n      <td>0</td>\n      <td>...</td>\n      <td>272</td>\n      <td>303</td>\n      <td>303</td>\n      <td>303</td>\n      <td>309</td>\n      <td>309</td>\n      <td>311</td>\n      <td>311</td>\n      <td>311</td>\n      <td>313</td>\n    </tr>\n    <tr>\n      <th>264</th>\n      <td>Tajikistan</td>\n      <td>0</td>\n      <td>0</td>\n      <td>0</td>\n      <td>0</td>\n      <td>0</td>\n      <td>0</td>\n      <td>0</td>\n      <td>0</td>\n      <td>0</td>\n      <td>...</td>\n      <td>5900</td>\n      <td>5900</td>\n      <td>6005</td>\n      <td>6058</td>\n      <td>6058</td>\n      <td>6159</td>\n      <td>6213</td>\n      <td>6262</td>\n      <td>6315</td>\n      <td>6364</td>\n    </tr>\n    <tr>\n      <th>265</th>\n      <td>Lesotho</td>\n      <td>0</td>\n      <td>0</td>\n      <td>0</td>\n      <td>0</td>\n      <td>0</td>\n      <td>0</td>\n      <td>0</td>\n      <td>0</td>\n      <td>0</td>\n      <td>...</td>\n      <td>27</td>\n      <td>27</td>\n      <td>35</td>\n      <td>35</td>\n      <td>35</td>\n      <td>35</td>\n      <td>79</td>\n      <td>91</td>\n      <td>91</td>\n      <td>91</td>\n    </tr>\n  </tbody>\n</table>\n<p>5 rows × 170 columns</p>\n</div>"
     },
     "metadata": {},
     "execution_count": 31
    }
   ],
   "source": [
    "df.tail()"
   ]
  },
  {
   "cell_type": "code",
   "execution_count": 32,
   "metadata": {},
   "outputs": [
    {
     "output_type": "execute_result",
     "data": {
      "text/plain": "Country/Region  Afghanistan  Albania  Algeria  Andorra  Angola  \\\n7/4/20                348.0     67.0    430.0      0.0    18.0   \n7/5/20                279.0     74.0    441.0      0.0     0.0   \n7/6/20                239.0     71.0    463.0      0.0     0.0   \n7/7/20                194.0     74.0    475.0      0.0    40.0   \n7/8/20                210.0     68.0    469.0      0.0     0.0   \n\nCountry/Region  Antigua and Barbuda  Argentina  Armenia  Australia  Austria  \\\n7/4/20                          0.0     2590.0    580.0      183.0    115.0   \n7/5/20                          0.0     2439.0    706.0      140.0    115.0   \n7/6/20                          2.0     2632.0    330.0      172.0     85.0   \n7/7/20                          0.0     2979.0    349.0      131.0     56.0   \n7/8/20                          0.0     3604.0    535.0      170.0     92.0   \n\nCountry/Region  ...  United Kingdom  Uruguay  Uzbekistan  Venezuela  Vietnam  \\\n7/4/20          ...           625.0      3.0       312.0      213.0      0.0   \n7/5/20          ...           519.0      1.0       312.0      419.0      0.0   \n7/6/20          ...           359.0      4.0       342.0      242.0     14.0   \n7/7/20          ...           584.0      5.0       476.0      282.0      0.0   \n7/8/20          ...           637.0      9.0       254.0      315.0      0.0   \n\nCountry/Region  West Bank and Gaza  Western Sahara  Yemen  Zambia  Zimbabwe  \n7/4/20                       501.0             0.0    8.0     0.0      73.0  \n7/5/20                       442.0             0.0   17.0     0.0      18.0  \n7/6/20                        64.0             0.0   19.0     0.0      18.0  \n7/7/20                       306.0             0.0   13.0   263.0      53.0  \n7/8/20                       382.0             0.0   21.0     0.0      98.0  \n\n[5 rows x 188 columns]",
      "text/html": "<div>\n<style scoped>\n    .dataframe tbody tr th:only-of-type {\n        vertical-align: middle;\n    }\n\n    .dataframe tbody tr th {\n        vertical-align: top;\n    }\n\n    .dataframe thead th {\n        text-align: right;\n    }\n</style>\n<table border=\"1\" class=\"dataframe\">\n  <thead>\n    <tr style=\"text-align: right;\">\n      <th>Country/Region</th>\n      <th>Afghanistan</th>\n      <th>Albania</th>\n      <th>Algeria</th>\n      <th>Andorra</th>\n      <th>Angola</th>\n      <th>Antigua and Barbuda</th>\n      <th>Argentina</th>\n      <th>Armenia</th>\n      <th>Australia</th>\n      <th>Austria</th>\n      <th>...</th>\n      <th>United Kingdom</th>\n      <th>Uruguay</th>\n      <th>Uzbekistan</th>\n      <th>Venezuela</th>\n      <th>Vietnam</th>\n      <th>West Bank and Gaza</th>\n      <th>Western Sahara</th>\n      <th>Yemen</th>\n      <th>Zambia</th>\n      <th>Zimbabwe</th>\n    </tr>\n  </thead>\n  <tbody>\n    <tr>\n      <th>7/4/20</th>\n      <td>348.0</td>\n      <td>67.0</td>\n      <td>430.0</td>\n      <td>0.0</td>\n      <td>18.0</td>\n      <td>0.0</td>\n      <td>2590.0</td>\n      <td>580.0</td>\n      <td>183.0</td>\n      <td>115.0</td>\n      <td>...</td>\n      <td>625.0</td>\n      <td>3.0</td>\n      <td>312.0</td>\n      <td>213.0</td>\n      <td>0.0</td>\n      <td>501.0</td>\n      <td>0.0</td>\n      <td>8.0</td>\n      <td>0.0</td>\n      <td>73.0</td>\n    </tr>\n    <tr>\n      <th>7/5/20</th>\n      <td>279.0</td>\n      <td>74.0</td>\n      <td>441.0</td>\n      <td>0.0</td>\n      <td>0.0</td>\n      <td>0.0</td>\n      <td>2439.0</td>\n      <td>706.0</td>\n      <td>140.0</td>\n      <td>115.0</td>\n      <td>...</td>\n      <td>519.0</td>\n      <td>1.0</td>\n      <td>312.0</td>\n      <td>419.0</td>\n      <td>0.0</td>\n      <td>442.0</td>\n      <td>0.0</td>\n      <td>17.0</td>\n      <td>0.0</td>\n      <td>18.0</td>\n    </tr>\n    <tr>\n      <th>7/6/20</th>\n      <td>239.0</td>\n      <td>71.0</td>\n      <td>463.0</td>\n      <td>0.0</td>\n      <td>0.0</td>\n      <td>2.0</td>\n      <td>2632.0</td>\n      <td>330.0</td>\n      <td>172.0</td>\n      <td>85.0</td>\n      <td>...</td>\n      <td>359.0</td>\n      <td>4.0</td>\n      <td>342.0</td>\n      <td>242.0</td>\n      <td>14.0</td>\n      <td>64.0</td>\n      <td>0.0</td>\n      <td>19.0</td>\n      <td>0.0</td>\n      <td>18.0</td>\n    </tr>\n    <tr>\n      <th>7/7/20</th>\n      <td>194.0</td>\n      <td>74.0</td>\n      <td>475.0</td>\n      <td>0.0</td>\n      <td>40.0</td>\n      <td>0.0</td>\n      <td>2979.0</td>\n      <td>349.0</td>\n      <td>131.0</td>\n      <td>56.0</td>\n      <td>...</td>\n      <td>584.0</td>\n      <td>5.0</td>\n      <td>476.0</td>\n      <td>282.0</td>\n      <td>0.0</td>\n      <td>306.0</td>\n      <td>0.0</td>\n      <td>13.0</td>\n      <td>263.0</td>\n      <td>53.0</td>\n    </tr>\n    <tr>\n      <th>7/8/20</th>\n      <td>210.0</td>\n      <td>68.0</td>\n      <td>469.0</td>\n      <td>0.0</td>\n      <td>0.0</td>\n      <td>0.0</td>\n      <td>3604.0</td>\n      <td>535.0</td>\n      <td>170.0</td>\n      <td>92.0</td>\n      <td>...</td>\n      <td>637.0</td>\n      <td>9.0</td>\n      <td>254.0</td>\n      <td>315.0</td>\n      <td>0.0</td>\n      <td>382.0</td>\n      <td>0.0</td>\n      <td>21.0</td>\n      <td>0.0</td>\n      <td>98.0</td>\n    </tr>\n  </tbody>\n</table>\n<p>5 rows × 188 columns</p>\n</div>"
     },
     "metadata": {},
     "execution_count": 32
    }
   ],
   "source": [
    "#Now we want to get the sum across countries then you get the daily diffrences\n",
    "#not sure how groupby works, sum, T, diff\n",
    "df = df.groupby(['Country/Region',]).sum().T.diff()\n",
    "df.tail()"
   ]
  },
  {
   "cell_type": "code",
   "execution_count": 33,
   "metadata": {},
   "outputs": [],
   "source": [
    "#now we just want the population from the list of european countries\n",
    "from countryinfo import CountryInfo"
   ]
  },
  {
   "cell_type": "code",
   "execution_count": 34,
   "metadata": {},
   "outputs": [],
   "source": [
    "#this sets an empty variable we called pop for the population\n",
    "pop = {}\n",
    "\n",
    "#now we want to loop through eu_list to get each of their population\n",
    "for country in eu_list:\n",
    "    pop[country] = CountryInfo(country).population()"
   ]
  },
  {
   "cell_type": "code",
   "execution_count": 35,
   "metadata": {},
   "outputs": [
    {
     "output_type": "error",
     "ename": "AttributeError",
     "evalue": "'dict' object has no attribute 'tail'",
     "traceback": [
      "\u001b[1;31m---------------------------------------------------------------------------\u001b[0m",
      "\u001b[1;31mAttributeError\u001b[0m                            Traceback (most recent call last)",
      "\u001b[1;32m<ipython-input-35-46b69d3e40b4>\u001b[0m in \u001b[0;36m<module>\u001b[1;34m\u001b[0m\n\u001b[1;32m----> 1\u001b[1;33m \u001b[0mpop\u001b[0m\u001b[1;33m.\u001b[0m\u001b[0mtail\u001b[0m\u001b[1;33m(\u001b[0m\u001b[1;33m)\u001b[0m\u001b[1;33m\u001b[0m\u001b[1;33m\u001b[0m\u001b[0m\n\u001b[0m",
      "\u001b[1;31mAttributeError\u001b[0m: 'dict' object has no attribute 'tail'"
     ]
    }
   ],
   "source": [
    "pop.tail()"
   ]
  },
  {
   "cell_type": "code",
   "execution_count": 36,
   "metadata": {},
   "outputs": [
    {
     "output_type": "execute_result",
     "data": {
      "text/plain": "dict"
     },
     "metadata": {},
     "execution_count": 36
    }
   ],
   "source": [
    "type(pop)"
   ]
  },
  {
   "cell_type": "code",
   "execution_count": 38,
   "metadata": {},
   "outputs": [
    {
     "output_type": "error",
     "ename": "ValueError",
     "evalue": "Length mismatch: Expected axis has 6 elements, new values have 1 elements",
     "traceback": [
      "\u001b[1;31m---------------------------------------------------------------------------\u001b[0m",
      "\u001b[1;31mValueError\u001b[0m                                Traceback (most recent call last)",
      "\u001b[1;32m<ipython-input-38-24cc3f9eabe0>\u001b[0m in \u001b[0;36m<module>\u001b[1;34m\u001b[0m\n\u001b[0;32m      1\u001b[0m \u001b[0mpop\u001b[0m \u001b[1;33m=\u001b[0m \u001b[0mpd\u001b[0m\u001b[1;33m.\u001b[0m\u001b[0mDataFrame\u001b[0m\u001b[1;33m(\u001b[0m\u001b[0mpd\u001b[0m\u001b[1;33m.\u001b[0m\u001b[0mDataFrame\u001b[0m\u001b[1;33m(\u001b[0m\u001b[0mpop\u001b[0m\u001b[1;33m,\u001b[0m \u001b[0mindex\u001b[0m\u001b[1;33m=\u001b[0m\u001b[0mpop\u001b[0m\u001b[1;33m.\u001b[0m\u001b[0mkeys\u001b[0m\u001b[1;33m(\u001b[0m\u001b[1;33m)\u001b[0m\u001b[1;33m)\u001b[0m\u001b[1;33m)\u001b[0m\u001b[1;33m\u001b[0m\u001b[1;33m\u001b[0m\u001b[0m\n\u001b[1;32m----> 2\u001b[1;33m \u001b[0mpop\u001b[0m\u001b[1;33m.\u001b[0m\u001b[0mcolumns\u001b[0m \u001b[1;33m=\u001b[0m \u001b[1;33m[\u001b[0m\u001b[1;34m'country'\u001b[0m\u001b[1;33m]\u001b[0m\u001b[1;33m\u001b[0m\u001b[1;33m\u001b[0m\u001b[0m\n\u001b[0m\u001b[0;32m      3\u001b[0m \u001b[1;31m# Adjust all statistics by Population\u001b[0m\u001b[1;33m\u001b[0m\u001b[1;33m\u001b[0m\u001b[1;33m\u001b[0m\u001b[0m\n\u001b[0;32m      4\u001b[0m \u001b[0mpop\u001b[0m\u001b[1;33m[\u001b[0m\u001b[1;34m'multiplier'\u001b[0m\u001b[1;33m]\u001b[0m \u001b[1;33m=\u001b[0m \u001b[1;36m1000000.\u001b[0m \u001b[1;33m/\u001b[0m \u001b[0mpop\u001b[0m\u001b[1;33m[\u001b[0m\u001b[1;34m'country'\u001b[0m\u001b[1;33m]\u001b[0m\u001b[1;33m\u001b[0m\u001b[1;33m\u001b[0m\u001b[0m\n\u001b[0;32m      5\u001b[0m \u001b[0mdf2\u001b[0m \u001b[1;33m=\u001b[0m \u001b[0mdf\u001b[0m\u001b[1;33m.\u001b[0m\u001b[0mcopy\u001b[0m\u001b[1;33m(\u001b[0m\u001b[1;33m)\u001b[0m\u001b[1;33m\u001b[0m\u001b[1;33m\u001b[0m\u001b[0m\n",
      "\u001b[1;32m~\\AppData\\Roaming\\Python\\Python37\\site-packages\\pandas\\core\\generic.py\u001b[0m in \u001b[0;36m__setattr__\u001b[1;34m(self, name, value)\u001b[0m\n\u001b[0;32m   5285\u001b[0m         \u001b[1;32mtry\u001b[0m\u001b[1;33m:\u001b[0m\u001b[1;33m\u001b[0m\u001b[1;33m\u001b[0m\u001b[0m\n\u001b[0;32m   5286\u001b[0m             \u001b[0mobject\u001b[0m\u001b[1;33m.\u001b[0m\u001b[0m__getattribute__\u001b[0m\u001b[1;33m(\u001b[0m\u001b[0mself\u001b[0m\u001b[1;33m,\u001b[0m \u001b[0mname\u001b[0m\u001b[1;33m)\u001b[0m\u001b[1;33m\u001b[0m\u001b[1;33m\u001b[0m\u001b[0m\n\u001b[1;32m-> 5287\u001b[1;33m             \u001b[1;32mreturn\u001b[0m \u001b[0mobject\u001b[0m\u001b[1;33m.\u001b[0m\u001b[0m__setattr__\u001b[0m\u001b[1;33m(\u001b[0m\u001b[0mself\u001b[0m\u001b[1;33m,\u001b[0m \u001b[0mname\u001b[0m\u001b[1;33m,\u001b[0m \u001b[0mvalue\u001b[0m\u001b[1;33m)\u001b[0m\u001b[1;33m\u001b[0m\u001b[1;33m\u001b[0m\u001b[0m\n\u001b[0m\u001b[0;32m   5288\u001b[0m         \u001b[1;32mexcept\u001b[0m \u001b[0mAttributeError\u001b[0m\u001b[1;33m:\u001b[0m\u001b[1;33m\u001b[0m\u001b[1;33m\u001b[0m\u001b[0m\n\u001b[0;32m   5289\u001b[0m             \u001b[1;32mpass\u001b[0m\u001b[1;33m\u001b[0m\u001b[1;33m\u001b[0m\u001b[0m\n",
      "\u001b[1;32mpandas\\_libs\\properties.pyx\u001b[0m in \u001b[0;36mpandas._libs.properties.AxisProperty.__set__\u001b[1;34m()\u001b[0m\n",
      "\u001b[1;32m~\\AppData\\Roaming\\Python\\Python37\\site-packages\\pandas\\core\\generic.py\u001b[0m in \u001b[0;36m_set_axis\u001b[1;34m(self, axis, labels)\u001b[0m\n\u001b[0;32m    659\u001b[0m \u001b[1;33m\u001b[0m\u001b[0m\n\u001b[0;32m    660\u001b[0m     \u001b[1;32mdef\u001b[0m \u001b[0m_set_axis\u001b[0m\u001b[1;33m(\u001b[0m\u001b[0mself\u001b[0m\u001b[1;33m,\u001b[0m \u001b[0maxis\u001b[0m\u001b[1;33m,\u001b[0m \u001b[0mlabels\u001b[0m\u001b[1;33m)\u001b[0m \u001b[1;33m->\u001b[0m \u001b[1;32mNone\u001b[0m\u001b[1;33m:\u001b[0m\u001b[1;33m\u001b[0m\u001b[1;33m\u001b[0m\u001b[0m\n\u001b[1;32m--> 661\u001b[1;33m         \u001b[0mself\u001b[0m\u001b[1;33m.\u001b[0m\u001b[0m_data\u001b[0m\u001b[1;33m.\u001b[0m\u001b[0mset_axis\u001b[0m\u001b[1;33m(\u001b[0m\u001b[0maxis\u001b[0m\u001b[1;33m,\u001b[0m \u001b[0mlabels\u001b[0m\u001b[1;33m)\u001b[0m\u001b[1;33m\u001b[0m\u001b[1;33m\u001b[0m\u001b[0m\n\u001b[0m\u001b[0;32m    662\u001b[0m         \u001b[0mself\u001b[0m\u001b[1;33m.\u001b[0m\u001b[0m_clear_item_cache\u001b[0m\u001b[1;33m(\u001b[0m\u001b[1;33m)\u001b[0m\u001b[1;33m\u001b[0m\u001b[1;33m\u001b[0m\u001b[0m\n\u001b[0;32m    663\u001b[0m \u001b[1;33m\u001b[0m\u001b[0m\n",
      "\u001b[1;32m~\\AppData\\Roaming\\Python\\Python37\\site-packages\\pandas\\core\\internals\\managers.py\u001b[0m in \u001b[0;36mset_axis\u001b[1;34m(self, axis, new_labels)\u001b[0m\n\u001b[0;32m    176\u001b[0m         \u001b[1;32mif\u001b[0m \u001b[0mnew_len\u001b[0m \u001b[1;33m!=\u001b[0m \u001b[0mold_len\u001b[0m\u001b[1;33m:\u001b[0m\u001b[1;33m\u001b[0m\u001b[1;33m\u001b[0m\u001b[0m\n\u001b[0;32m    177\u001b[0m             raise ValueError(\n\u001b[1;32m--> 178\u001b[1;33m                 \u001b[1;34mf\"Length mismatch: Expected axis has {old_len} elements, new \"\u001b[0m\u001b[1;33m\u001b[0m\u001b[1;33m\u001b[0m\u001b[0m\n\u001b[0m\u001b[0;32m    179\u001b[0m                 \u001b[1;34mf\"values have {new_len} elements\"\u001b[0m\u001b[1;33m\u001b[0m\u001b[1;33m\u001b[0m\u001b[0m\n\u001b[0;32m    180\u001b[0m             )\n",
      "\u001b[1;31mValueError\u001b[0m: Length mismatch: Expected axis has 6 elements, new values have 1 elements"
     ]
    }
   ],
   "source": [
    "pop = pd.DataFrame(pd.DataFrame(pop, index=pop.keys()))\n",
    "pop.columns = ['country']\n",
    "# Adjust all statistics by Population\n",
    "pop['multiplier'] = 1000000. / pop['country']\n",
    "df2 = df.copy()\n",
    "for k in eu_list:\n",
    " df2[k] = (df2[k] * pop.ix[k,'multiplier'])"
   ]
  },
  {
   "cell_type": "code",
   "execution_count": null,
   "metadata": {},
   "outputs": [],
   "source": []
  }
 ],
 "metadata": {
  "language_info": {
   "codemirror_mode": {
    "name": "ipython",
    "version": 3
   },
   "file_extension": ".py",
   "mimetype": "text/x-python",
   "name": "python",
   "nbconvert_exporter": "python",
   "pygments_lexer": "ipython3",
   "version": "3.7.6-final"
  },
  "orig_nbformat": 2,
  "kernelspec": {
   "name": "python3",
   "display_name": "Python 3"
  }
 },
 "nbformat": 4,
 "nbformat_minor": 2
}