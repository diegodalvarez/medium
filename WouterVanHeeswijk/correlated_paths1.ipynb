{
 "cells": [
  {
   "cell_type": "code",
   "execution_count": 1,
   "metadata": {},
   "outputs": [],
   "source": [
    "import numpy as np\n",
    "import pandas as pd\n",
    "import datetime as dt\n",
    "import yfinance as yf\n",
    "import seaborn as sns\n",
    "import matplotlib.pyplot as plt\n",
    "\n",
    "from scipy.stats import norm"
   ]
  },
  {
   "cell_type": "code",
   "execution_count": 2,
   "metadata": {},
   "outputs": [],
   "source": [
    "end = dt.datetime.today()\n",
    "start = dt.datetime(end.year - 10, end.month, end.day)"
   ]
  },
  {
   "cell_type": "code",
   "execution_count": 3,
   "metadata": {},
   "outputs": [
    {
     "name": "stdout",
     "output_type": "stream",
     "text": [
      "[*********************100%***********************]  5 of 5 completed\n"
     ]
    },
    {
     "data": {
      "text/html": [
       "<div>\n",
       "<style scoped>\n",
       "    .dataframe tbody tr th:only-of-type {\n",
       "        vertical-align: middle;\n",
       "    }\n",
       "\n",
       "    .dataframe tbody tr th {\n",
       "        vertical-align: top;\n",
       "    }\n",
       "\n",
       "    .dataframe thead th {\n",
       "        text-align: right;\n",
       "    }\n",
       "</style>\n",
       "<table border=\"1\" class=\"dataframe\">\n",
       "  <thead>\n",
       "    <tr style=\"text-align: right;\">\n",
       "      <th></th>\n",
       "      <th>AAPL</th>\n",
       "      <th>AMZN</th>\n",
       "      <th>FB</th>\n",
       "      <th>GOOG</th>\n",
       "      <th>MSFT</th>\n",
       "    </tr>\n",
       "    <tr>\n",
       "      <th>Date</th>\n",
       "      <th></th>\n",
       "      <th></th>\n",
       "      <th></th>\n",
       "      <th></th>\n",
       "      <th></th>\n",
       "    </tr>\n",
       "  </thead>\n",
       "  <tbody>\n",
       "    <tr>\n",
       "      <th>2011-06-03</th>\n",
       "      <td>10.547321</td>\n",
       "      <td>188.320007</td>\n",
       "      <td>NaN</td>\n",
       "      <td>260.563354</td>\n",
       "      <td>19.159355</td>\n",
       "    </tr>\n",
       "    <tr>\n",
       "      <th>2011-06-06</th>\n",
       "      <td>10.381486</td>\n",
       "      <td>185.690002</td>\n",
       "      <td>NaN</td>\n",
       "      <td>259.557129</td>\n",
       "      <td>19.239487</td>\n",
       "    </tr>\n",
       "    <tr>\n",
       "      <th>2011-06-07</th>\n",
       "      <td>10.197216</td>\n",
       "      <td>187.550003</td>\n",
       "      <td>NaN</td>\n",
       "      <td>258.545898</td>\n",
       "      <td>19.279551</td>\n",
       "    </tr>\n",
       "    <tr>\n",
       "      <th>2011-06-08</th>\n",
       "      <td>10.203362</td>\n",
       "      <td>188.050003</td>\n",
       "      <td>NaN</td>\n",
       "      <td>258.615631</td>\n",
       "      <td>19.183393</td>\n",
       "    </tr>\n",
       "    <tr>\n",
       "      <th>2011-06-09</th>\n",
       "      <td>10.180327</td>\n",
       "      <td>189.679993</td>\n",
       "      <td>NaN</td>\n",
       "      <td>257.400208</td>\n",
       "      <td>19.199417</td>\n",
       "    </tr>\n",
       "  </tbody>\n",
       "</table>\n",
       "</div>"
      ],
      "text/plain": [
       "                 AAPL        AMZN  FB        GOOG       MSFT\n",
       "Date                                                        \n",
       "2011-06-03  10.547321  188.320007 NaN  260.563354  19.159355\n",
       "2011-06-06  10.381486  185.690002 NaN  259.557129  19.239487\n",
       "2011-06-07  10.197216  187.550003 NaN  258.545898  19.279551\n",
       "2011-06-08  10.203362  188.050003 NaN  258.615631  19.183393\n",
       "2011-06-09  10.180327  189.679993 NaN  257.400208  19.199417"
      ]
     },
     "execution_count": 3,
     "metadata": {},
     "output_type": "execute_result"
    }
   ],
   "source": [
    "tickers = [\"AAPL\", \"AMZN\", \"GOOG\", \"MSFT\", \"FB\"]\n",
    "df = yf.download(tickers, start, end)['Adj Close']\n",
    "df.head()"
   ]
  },
  {
   "cell_type": "code",
   "execution_count": 4,
   "metadata": {},
   "outputs": [
    {
     "name": "stdout",
     "output_type": "stream",
     "text": [
      "[0.3523, 0.3136, 0.3623, 0.2852, 0.2791]\n"
     ]
    }
   ],
   "source": [
    "#now get the volatility of each \n",
    "volatility_array = []\n",
    "\n",
    "#go through all of the columns\n",
    "for i in df.columns:\n",
    "    \n",
    "    #get the logarithmic return\n",
    "    log_ret = np.log(df[i] / df[i].shift(1))\n",
    "    \n",
    "    #then get the volatility \n",
    "    vol = round(log_ret.rolling(window = 252).std() * np.sqrt(252),4)[-1]\n",
    "    \n",
    "    #then append that into a list\n",
    "    volatility_array.append(vol)\n",
    "    \n",
    "print(volatility_array)"
   ]
  },
  {
   "cell_type": "code",
   "execution_count": 5,
   "metadata": {},
   "outputs": [
    {
     "data": {
      "text/plain": [
       "<AxesSubplot:>"
      ]
     },
     "execution_count": 5,
     "metadata": {},
     "output_type": "execute_result"
    },
    {
     "data": {
      "image/png": "[encoded data removed]",
      "text/plain": [
       "<Figure size 720x720 with 2 Axes>"
      ]
     },
     "metadata": {
      "needs_background": "light"
     },
     "output_type": "display_data"
    }
   ],
   "source": [
    "#then make a correlation matrix\n",
    "df_corr = df.corr()\n",
    "\n",
    "plt.figure(figsize = (10,10))\n",
    "sns.heatmap(df_corr, annot = True)"
   ]
  },
  {
   "cell_type": "code",
   "execution_count": 6,
   "metadata": {},
   "outputs": [
    {
     "data": {
      "text/plain": [
       "<AxesSubplot:>"
      ]
     },
     "execution_count": 6,
     "metadata": {},
     "output_type": "execute_result"
    },
    {
     "data": {
      "image/png": "[encoded data removed]",
      "text/plain": [
       "<Figure size 720x720 with 2 Axes>"
      ]
     },
     "metadata": {
      "needs_background": "light"
     },
     "output_type": "display_data"
    }
   ],
   "source": [
    "#cholseky decomposition\n",
    "R = np.linalg.cholesky(df_corr)\n",
    "\n",
    "#the transpose to get the conjugate\n",
    "RT = R.T.conj()\n",
    "\n",
    "plt.figure(figsize = (10,10))\n",
    "sns.heatmap(RT, annot = True)"
   ]
  },
  {
   "cell_type": "code",
   "execution_count": 7,
   "metadata": {},
   "outputs": [
    {
     "data": {
      "text/html": [
       "<div>\n",
       "<style scoped>\n",
       "    .dataframe tbody tr th:only-of-type {\n",
       "        vertical-align: middle;\n",
       "    }\n",
       "\n",
       "    .dataframe tbody tr th {\n",
       "        vertical-align: top;\n",
       "    }\n",
       "\n",
       "    .dataframe thead th {\n",
       "        text-align: right;\n",
       "    }\n",
       "</style>\n",
       "<table border=\"1\" class=\"dataframe\">\n",
       "  <thead>\n",
       "    <tr style=\"text-align: right;\">\n",
       "      <th></th>\n",
       "      <th>AAPL</th>\n",
       "      <th>AMZN</th>\n",
       "      <th>FB</th>\n",
       "      <th>GOOG</th>\n",
       "      <th>MSFT</th>\n",
       "    </tr>\n",
       "    <tr>\n",
       "      <th>Date</th>\n",
       "      <th></th>\n",
       "      <th></th>\n",
       "      <th></th>\n",
       "      <th></th>\n",
       "      <th></th>\n",
       "    </tr>\n",
       "  </thead>\n",
       "  <tbody>\n",
       "    <tr>\n",
       "      <th>2011-06-03</th>\n",
       "      <td>10.547321</td>\n",
       "      <td>188.320007</td>\n",
       "      <td>NaN</td>\n",
       "      <td>260.563354</td>\n",
       "      <td>19.159355</td>\n",
       "    </tr>\n",
       "    <tr>\n",
       "      <th>2011-06-06</th>\n",
       "      <td>10.381486</td>\n",
       "      <td>185.690002</td>\n",
       "      <td>NaN</td>\n",
       "      <td>259.557129</td>\n",
       "      <td>19.239487</td>\n",
       "    </tr>\n",
       "    <tr>\n",
       "      <th>2011-06-07</th>\n",
       "      <td>10.197216</td>\n",
       "      <td>187.550003</td>\n",
       "      <td>NaN</td>\n",
       "      <td>258.545898</td>\n",
       "      <td>19.279551</td>\n",
       "    </tr>\n",
       "    <tr>\n",
       "      <th>2011-06-08</th>\n",
       "      <td>10.203362</td>\n",
       "      <td>188.050003</td>\n",
       "      <td>NaN</td>\n",
       "      <td>258.615631</td>\n",
       "      <td>19.183393</td>\n",
       "    </tr>\n",
       "    <tr>\n",
       "      <th>2011-06-09</th>\n",
       "      <td>10.180327</td>\n",
       "      <td>189.679993</td>\n",
       "      <td>NaN</td>\n",
       "      <td>257.400208</td>\n",
       "      <td>19.199417</td>\n",
       "    </tr>\n",
       "  </tbody>\n",
       "</table>\n",
       "</div>"
      ],
      "text/plain": [
       "                 AAPL        AMZN  FB        GOOG       MSFT\n",
       "Date                                                        \n",
       "2011-06-03  10.547321  188.320007 NaN  260.563354  19.159355\n",
       "2011-06-06  10.381486  185.690002 NaN  259.557129  19.239487\n",
       "2011-06-07  10.197216  187.550003 NaN  258.545898  19.279551\n",
       "2011-06-08  10.203362  188.050003 NaN  258.615631  19.183393\n",
       "2011-06-09  10.180327  189.679993 NaN  257.400208  19.199417"
      ]
     },
     "execution_count": 7,
     "metadata": {},
     "output_type": "execute_result"
    }
   ],
   "source": []
  },
  {
   "cell_type": "code",
   "execution_count": 8,
   "metadata": {},
   "outputs": [
    {
     "data": {
      "text/html": [
       "<div>\n",
       "<style scoped>\n",
       "    .dataframe tbody tr th:only-of-type {\n",
       "        vertical-align: middle;\n",
       "    }\n",
       "\n",
       "    .dataframe tbody tr th {\n",
       "        vertical-align: top;\n",
       "    }\n",
       "\n",
       "    .dataframe thead th {\n",
       "        text-align: right;\n",
       "    }\n",
       "</style>\n",
       "<table border=\"1\" class=\"dataframe\">\n",
       "  <thead>\n",
       "    <tr style=\"text-align: right;\">\n",
       "      <th></th>\n",
       "      <th>AAPL</th>\n",
       "      <th>AMZN</th>\n",
       "      <th>FB</th>\n",
       "      <th>GOOG</th>\n",
       "      <th>MSFT</th>\n",
       "      <th>AAPLPctChg</th>\n",
       "      <th>AMZNPctChg</th>\n",
       "      <th>FBPctChg</th>\n",
       "      <th>GOOGPctChg</th>\n",
       "      <th>MSFTPctChg</th>\n",
       "    </tr>\n",
       "    <tr>\n",
       "      <th>Date</th>\n",
       "      <th></th>\n",
       "      <th></th>\n",
       "      <th></th>\n",
       "      <th></th>\n",
       "      <th></th>\n",
       "      <th></th>\n",
       "      <th></th>\n",
       "      <th></th>\n",
       "      <th></th>\n",
       "      <th></th>\n",
       "    </tr>\n",
       "  </thead>\n",
       "  <tbody>\n",
       "    <tr>\n",
       "      <th>2011-06-03</th>\n",
       "      <td>10.547321</td>\n",
       "      <td>188.320007</td>\n",
       "      <td>NaN</td>\n",
       "      <td>260.563354</td>\n",
       "      <td>19.159355</td>\n",
       "      <td>NaN</td>\n",
       "      <td>NaN</td>\n",
       "      <td>NaN</td>\n",
       "      <td>NaN</td>\n",
       "      <td>NaN</td>\n",
       "    </tr>\n",
       "    <tr>\n",
       "      <th>2011-06-06</th>\n",
       "      <td>10.381486</td>\n",
       "      <td>185.690002</td>\n",
       "      <td>NaN</td>\n",
       "      <td>259.557129</td>\n",
       "      <td>19.239487</td>\n",
       "      <td>-0.015723</td>\n",
       "      <td>-0.013966</td>\n",
       "      <td>NaN</td>\n",
       "      <td>-0.003862</td>\n",
       "      <td>0.004182</td>\n",
       "    </tr>\n",
       "    <tr>\n",
       "      <th>2011-06-07</th>\n",
       "      <td>10.197216</td>\n",
       "      <td>187.550003</td>\n",
       "      <td>NaN</td>\n",
       "      <td>258.545898</td>\n",
       "      <td>19.279551</td>\n",
       "      <td>-0.017750</td>\n",
       "      <td>0.010017</td>\n",
       "      <td>NaN</td>\n",
       "      <td>-0.003896</td>\n",
       "      <td>0.002082</td>\n",
       "    </tr>\n",
       "    <tr>\n",
       "      <th>2011-06-08</th>\n",
       "      <td>10.203362</td>\n",
       "      <td>188.050003</td>\n",
       "      <td>NaN</td>\n",
       "      <td>258.615631</td>\n",
       "      <td>19.183393</td>\n",
       "      <td>0.000603</td>\n",
       "      <td>0.002666</td>\n",
       "      <td>NaN</td>\n",
       "      <td>0.000270</td>\n",
       "      <td>-0.004988</td>\n",
       "    </tr>\n",
       "    <tr>\n",
       "      <th>2011-06-09</th>\n",
       "      <td>10.180327</td>\n",
       "      <td>189.679993</td>\n",
       "      <td>NaN</td>\n",
       "      <td>257.400208</td>\n",
       "      <td>19.199417</td>\n",
       "      <td>-0.002258</td>\n",
       "      <td>0.008668</td>\n",
       "      <td>NaN</td>\n",
       "      <td>-0.004700</td>\n",
       "      <td>0.000835</td>\n",
       "    </tr>\n",
       "  </tbody>\n",
       "</table>\n",
       "</div>"
      ],
      "text/plain": [
       "                 AAPL        AMZN  FB        GOOG       MSFT  AAPLPctChg  \\\n",
       "Date                                                                       \n",
       "2011-06-03  10.547321  188.320007 NaN  260.563354  19.159355         NaN   \n",
       "2011-06-06  10.381486  185.690002 NaN  259.557129  19.239487   -0.015723   \n",
       "2011-06-07  10.197216  187.550003 NaN  258.545898  19.279551   -0.017750   \n",
       "2011-06-08  10.203362  188.050003 NaN  258.615631  19.183393    0.000603   \n",
       "2011-06-09  10.180327  189.679993 NaN  257.400208  19.199417   -0.002258   \n",
       "\n",
       "            AMZNPctChg  FBPctChg  GOOGPctChg  MSFTPctChg  \n",
       "Date                                                      \n",
       "2011-06-03         NaN       NaN         NaN         NaN  \n",
       "2011-06-06   -0.013966       NaN   -0.003862    0.004182  \n",
       "2011-06-07    0.010017       NaN   -0.003896    0.002082  \n",
       "2011-06-08    0.002666       NaN    0.000270   -0.004988  \n",
       "2011-06-09    0.008668       NaN   -0.004700    0.000835  "
      ]
     },
     "execution_count": 8,
     "metadata": {},
     "output_type": "execute_result"
    }
   ],
   "source": [
    "for i in df.columns:\n",
    "    df[i + \"PctChg\"] = df[i].pct_change().dropna()\n",
    "    \n",
    "df.head()"
   ]
  },
  {
   "cell_type": "code",
   "execution_count": null,
   "metadata": {},
   "outputs": [],
   "source": []
  }
 ],
 "metadata": {
  "kernelspec": {
   "display_name": "Python 3",
   "language": "python",
   "name": "python3"
  },
  "language_info": {
   "codemirror_mode": {
    "name": "ipython",
    "version": 3
   },
   "file_extension": ".py",
   "mimetype": "text/x-python",
   "name": "python",
   "nbconvert_exporter": "python",
   "pygments_lexer": "ipython3",
   "version": "3.8.5"
  }
 },
 "nbformat": 4,
 "nbformat_minor": 4
}
