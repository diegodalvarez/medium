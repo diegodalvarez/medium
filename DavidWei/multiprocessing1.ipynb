{
 "cells": [
  {
   "cell_type": "code",
   "execution_count": 1,
   "metadata": {},
   "outputs": [],
   "source": [
    "int_list = [3, 4, 5, 6, 5, 4, 3, 2, 1, 3, 4, 4, 3, 2, 4, 6, 2, 1, 32, 4, 55, 3, 2, 1, 4, 6, 78, 8, 5, 6, 0, 9, 8, 6, 3, 5, 6, 7, 7, 8, 8, 4, 2]"
   ]
  },
  {
   "cell_type": "code",
   "execution_count": 2,
   "metadata": {},
   "outputs": [],
   "source": [
    "import multiprocessing as mp\n",
    "from tqdm.notebook import tqdm"
   ]
  },
  {
   "cell_type": "code",
   "execution_count": 3,
   "metadata": {},
   "outputs": [
    {
     "name": "stdout",
     "output_type": "stream",
     "text": [
      "the number of CPU cores 8\n"
     ]
    }
   ],
   "source": [
    "nprocs = mp.cpu_count()\n",
    "print(\"the number of CPU cores\", nprocs)"
   ]
  },
  {
   "cell_type": "code",
   "execution_count": 4,
   "metadata": {},
   "outputs": [],
   "source": [
    "#we split the int_list into n-sub-lists, let's say that we use 6 cores\n",
    "def split(iter, n):\n",
    "    \n",
    "    #not sure what this is\n",
    "    k, m = divmod(len(iter), n)\n",
    "    \n",
    "    #no clue\n",
    "    split_data = [iter[i * k + min(i,m): (i+1) * k + min(i+1, m)] for i in range(n)]\n",
    "    \n",
    "    #no clue on what this is\n",
    "    split_data_order_number = [[i,v] for i,v in enumerate(split_data)]\n",
    "    \n",
    "    return split_data_order_number"
   ]
  },
  {
   "cell_type": "code",
   "execution_count": 5,
   "metadata": {},
   "outputs": [],
   "source": [
    "sub_list = split(int_list, 6)"
   ]
  },
  {
   "cell_type": "code",
   "execution_count": 6,
   "metadata": {},
   "outputs": [
    {
     "name": "stdout",
     "output_type": "stream",
     "text": [
      "[[0, [3, 4, 5, 6, 5, 4, 3, 2]],\n",
      " [1, [1, 3, 4, 4, 3, 2, 4]],\n",
      " [2, [6, 2, 1, 32, 4, 55, 3]],\n",
      " [3, [2, 1, 4, 6, 78, 8, 5]],\n",
      " [4, [6, 0, 9, 8, 6, 3, 5]],\n",
      " [5, [6, 7, 7, 8, 8, 4, 2]]]\n"
     ]
    }
   ],
   "source": [
    "import pprint \n",
    "pprint.pprint(list(sub_list))"
   ]
  },
  {
   "cell_type": "code",
   "execution_count": 7,
   "metadata": {},
   "outputs": [],
   "source": [
    "#now we initiate a queue and define our multiprocessing version function func\n",
    "\n",
    "#the queue will save the output\n",
    "qout1 = mp.Queue()\n",
    "qout2 = mp.Queue()\n",
    "\n",
    "def func(x, q1, q2):\n",
    "    \n",
    "    #x is our input \n",
    "    index = x[0]\n",
    "    value = x[1]\n",
    "    res1 = []\n",
    "    \n",
    "    print(\"Job {}\".format(index), \"starting \\n\")\n",
    "    \n",
    "    #this for viewing the output\n",
    "    for i in tqdm(value):\n",
    "        res1.append(i ** 2)\n",
    "        \n",
    "    #then save in the queue\n",
    "    q1.put(res1)\n",
    "    q2.put(index)\n",
    "    \n",
    "    print(\"job {}\".format(index), \"finishing \\n\")"
   ]
  },
  {
   "cell_type": "code",
   "execution_count": 8,
   "metadata": {},
   "outputs": [],
   "source": [
    "processes = [mp.Process(target = func, args = (sub, qout1, qout2)) for sub in sub_list]"
   ]
  },
  {
   "cell_type": "code",
   "execution_count": null,
   "metadata": {},
   "outputs": [],
   "source": [
    "for p in processes:\n",
    "    \n",
    "    p.daemon = True\n",
    "    p.start()\n",
    "    \n",
    "    "
   ]
  }
 ],
 "metadata": {
  "kernelspec": {
   "display_name": "Python 3",
   "language": "python",
   "name": "python3"
  },
  "language_info": {
   "codemirror_mode": {
    "name": "ipython",
    "version": 3
   },
   "file_extension": ".py",
   "mimetype": "text/x-python",
   "name": "python",
   "nbconvert_exporter": "python",
   "pygments_lexer": "ipython3",
   "version": "3.8.5"
  }
 },
 "nbformat": 4,
 "nbformat_minor": 4
}
