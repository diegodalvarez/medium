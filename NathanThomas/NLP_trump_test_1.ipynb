{
 "metadata": {
  "language_info": {
   "codemirror_mode": {
    "name": "ipython",
    "version": 3
   },
   "file_extension": ".py",
   "mimetype": "text/x-python",
   "name": "python",
   "nbconvert_exporter": "python",
   "pygments_lexer": "ipython3",
   "version": "3.7.6-final"
  },
  "orig_nbformat": 2,
  "kernelspec": {
   "name": "Python 3.7.6 64-bit ('base': conda)",
   "display_name": "Python 3.7.6 64-bit ('base': conda)",
   "metadata": {
    "interpreter": {
     "hash": "90215180e3510b7cc610bbcd7049faaefdb75cf213a625a3b7913872d73ad565"
    }
   }
  }
 },
 "nbformat": 4,
 "nbformat_minor": 2,
 "cells": [
  {
   "source": [
    "Tradesr and portfolio managers make decision on whether to buy and sell specifc  equitis based on the aspects of the firm. The Efficient Market Hypothesis says that shares trade teh at their instrinsic value of stock based on all of the information present. That would imply that Trump tweets, will be reflected in financial markets even before it hits headlines"
   ],
   "cell_type": "markdown",
   "metadata": {}
  },
  {
   "source": [
    "what we need to do first is collcect the data for this case they will collect 3,000 tweets from 28 July 2019 to 16 November 2019, using the twitter API Tweepy you have to make a developer account of twitter"
   ],
   "cell_type": "markdown",
   "metadata": {}
  },
  {
   "source": [
    "Can't complete "
   ],
   "cell_type": "markdown",
   "metadata": {}
  },
  {
   "cell_type": "code",
   "execution_count": null,
   "metadata": {},
   "outputs": [],
   "source": []
  }
 ]
}