{
 "metadata": {
  "language_info": {
   "codemirror_mode": {
    "name": "ipython",
    "version": 3
   },
   "file_extension": ".py",
   "mimetype": "text/x-python",
   "name": "python",
   "nbconvert_exporter": "python",
   "pygments_lexer": "ipython3",
   "version": "3.7.6-final"
  },
  "orig_nbformat": 2,
  "kernelspec": {
   "name": "Python 3.7.6 64-bit ('base': conda)",
   "display_name": "Python 3.7.6 64-bit ('base': conda)",
   "metadata": {
    "interpreter": {
     "hash": "90215180e3510b7cc610bbcd7049faaefdb75cf213a625a3b7913872d73ad565"
    }
   }
  }
 },
 "nbformat": 4,
 "nbformat_minor": 2,
 "cells": [
  {
   "source": [
    "They make these notes about government bonds"
   ],
   "cell_type": "markdown",
   "metadata": {}
  },
  {
   "source": [
    "1. the average of market expectations concering the future short-term interest rates\n",
    "2. this could be used for finding the term premium, you can use \n",
    "\n",
    "Data has two properties, noise and signal. Principal component analysis aims to reduce the dimensionality of a dataset, it does that to find the least amount of variables that explain the largest proportion of the dataset\n",
    "\n",
    "what happens is that it turns the data into a correlation / covariance matrix onto a subset with fewer dimesniosn where all explanatory variables are orthogonal.\n",
    "\n",
    "For the data they use the UK government bond spot rates from 0.5 years to 10 years to maturity \n",
    "\n",
    "They use this theory for PCA (developed by Econometricians):\n",
    "\n",
    "PC1 = constant (long term interst rates)\n",
    "PC2 = slope (term premium)\n",
    "PC3 = curvature"
   ],
   "cell_type": "markdown",
   "metadata": {}
  },
  {
   "cell_type": "code",
   "execution_count": 3,
   "metadata": {},
   "outputs": [
    {
     "output_type": "execute_result",
     "data": {
      "text/plain": "            1_month  3_month  6_month  1_year  2_year  3_year  5_year  7_year  \\\nDATE                                                                            \n2001-07-31     3.67     5.48     3.47    3.53    3.79    4.06    4.57    4.86   \n2001-08-01     3.65     5.43     3.47    3.56    3.83    4.09    4.62    4.90   \n2001-08-02     3.65     5.44     3.46    3.57    3.89    4.17    4.69    4.97   \n2001-08-03     3.63     5.41     3.47    3.57    3.91    4.22    4.72    4.99   \n2001-08-06     3.62     5.38     3.47    3.56    3.88    4.17    4.71    4.99   \n\n            10_year  20_year  30_year  \nDATE                                   \n2001-07-31     5.07     5.61     5.51  \n2001-08-01     5.11     5.63     5.53  \n2001-08-02     5.17     5.68     5.57  \n2001-08-03     5.20     5.70     5.59  \n2001-08-06     5.19     5.70     5.59  ",
      "text/html": "<div>\n<style scoped>\n    .dataframe tbody tr th:only-of-type {\n        vertical-align: middle;\n    }\n\n    .dataframe tbody tr th {\n        vertical-align: top;\n    }\n\n    .dataframe thead th {\n        text-align: right;\n    }\n</style>\n<table border=\"1\" class=\"dataframe\">\n  <thead>\n    <tr style=\"text-align: right;\">\n      <th></th>\n      <th>1_month</th>\n      <th>3_month</th>\n      <th>6_month</th>\n      <th>1_year</th>\n      <th>2_year</th>\n      <th>3_year</th>\n      <th>5_year</th>\n      <th>7_year</th>\n      <th>10_year</th>\n      <th>20_year</th>\n      <th>30_year</th>\n    </tr>\n    <tr>\n      <th>DATE</th>\n      <th></th>\n      <th></th>\n      <th></th>\n      <th></th>\n      <th></th>\n      <th></th>\n      <th></th>\n      <th></th>\n      <th></th>\n      <th></th>\n      <th></th>\n    </tr>\n  </thead>\n  <tbody>\n    <tr>\n      <th>2001-07-31</th>\n      <td>3.67</td>\n      <td>5.48</td>\n      <td>3.47</td>\n      <td>3.53</td>\n      <td>3.79</td>\n      <td>4.06</td>\n      <td>4.57</td>\n      <td>4.86</td>\n      <td>5.07</td>\n      <td>5.61</td>\n      <td>5.51</td>\n    </tr>\n    <tr>\n      <th>2001-08-01</th>\n      <td>3.65</td>\n      <td>5.43</td>\n      <td>3.47</td>\n      <td>3.56</td>\n      <td>3.83</td>\n      <td>4.09</td>\n      <td>4.62</td>\n      <td>4.90</td>\n      <td>5.11</td>\n      <td>5.63</td>\n      <td>5.53</td>\n    </tr>\n    <tr>\n      <th>2001-08-02</th>\n      <td>3.65</td>\n      <td>5.44</td>\n      <td>3.46</td>\n      <td>3.57</td>\n      <td>3.89</td>\n      <td>4.17</td>\n      <td>4.69</td>\n      <td>4.97</td>\n      <td>5.17</td>\n      <td>5.68</td>\n      <td>5.57</td>\n    </tr>\n    <tr>\n      <th>2001-08-03</th>\n      <td>3.63</td>\n      <td>5.41</td>\n      <td>3.47</td>\n      <td>3.57</td>\n      <td>3.91</td>\n      <td>4.22</td>\n      <td>4.72</td>\n      <td>4.99</td>\n      <td>5.20</td>\n      <td>5.70</td>\n      <td>5.59</td>\n    </tr>\n    <tr>\n      <th>2001-08-06</th>\n      <td>3.62</td>\n      <td>5.38</td>\n      <td>3.47</td>\n      <td>3.56</td>\n      <td>3.88</td>\n      <td>4.17</td>\n      <td>4.71</td>\n      <td>4.99</td>\n      <td>5.19</td>\n      <td>5.70</td>\n      <td>5.59</td>\n    </tr>\n  </tbody>\n</table>\n</div>"
     },
     "metadata": {},
     "execution_count": 3
    }
   ],
   "source": [
    "import matplotlib.pyplot as plt \n",
    "import pandas as pd \n",
    "import numpy as np \n",
    "\n",
    "df = pd.read_excel(\"treasury_yield_curve.xlsx\", index_col = 0)\n",
    "df.head()"
   ]
  },
  {
   "cell_type": "code",
   "execution_count": 4,
   "metadata": {},
   "outputs": [
    {
     "output_type": "error",
     "ename": "NameError",
     "evalue": "name 'corr_matrix_array' is not defined",
     "traceback": [
      "\u001b[1;31m---------------------------------------------------------------------------\u001b[0m",
      "\u001b[1;31mNameError\u001b[0m                                 Traceback (most recent call last)",
      "\u001b[1;32m<ipython-input-4-1ca2b837162d>\u001b[0m in \u001b[0;36m<module>\u001b[1;34m\u001b[0m\n\u001b[1;32m----> 1\u001b[1;33m \u001b[0meigenvalues\u001b[0m\u001b[1;33m,\u001b[0m \u001b[0meigenvalues\u001b[0m \u001b[1;33m=\u001b[0m \u001b[0mnp\u001b[0m\u001b[1;33m.\u001b[0m\u001b[0mlinalg\u001b[0m\u001b[1;33m.\u001b[0m\u001b[0meig\u001b[0m\u001b[1;33m(\u001b[0m\u001b[0mcorr_matrix_array\u001b[0m\u001b[1;33m)\u001b[0m\u001b[1;33m\u001b[0m\u001b[1;33m\u001b[0m\u001b[0m\n\u001b[0m\u001b[0;32m      2\u001b[0m \u001b[1;33m\u001b[0m\u001b[0m\n\u001b[0;32m      3\u001b[0m \u001b[0mdf_eigval\u001b[0m \u001b[1;33m=\u001b[0m \u001b[0mpd\u001b[0m\u001b[1;33m.\u001b[0m\u001b[0mDataFrame\u001b[0m\u001b[1;33m(\u001b[0m\u001b[1;33m{\u001b[0m\u001b[1;34m\"Eigenvalues\"\u001b[0m\u001b[1;33m:\u001b[0m \u001b[0meigenvalues\u001b[0m\u001b[1;33m}\u001b[0m\u001b[1;33m,\u001b[0m \u001b[0mindex\u001b[0m \u001b[1;33m=\u001b[0m \u001b[0mrnge\u001b[0m\u001b[1;33m(\u001b[0m\u001b[1;36m1\u001b[0m\u001b[1;33m,\u001b[0m\u001b[1;36m21\u001b[0m\u001b[1;33m)\u001b[0m\u001b[1;33m)\u001b[0m\u001b[1;33m\u001b[0m\u001b[1;33m\u001b[0m\u001b[0m\n\u001b[0;32m      4\u001b[0m \u001b[1;33m\u001b[0m\u001b[0m\n\u001b[0;32m      5\u001b[0m \u001b[0mdf_eigval\u001b[0m\u001b[1;33m[\u001b[0m\u001b[1;34m\"Explained proportion\"\u001b[0m\u001b[1;33m]\u001b[0m \u001b[1;33m=\u001b[0m \u001b[0mdf_eigval\u001b[0m\u001b[1;33m[\u001b[0m\u001b[1;34m\"Eigenvalues\"\u001b[0m\u001b[1;33m]\u001b[0m \u001b[1;33m/\u001b[0m \u001b[0mnp\u001b[0m\u001b[1;33m.\u001b[0m\u001b[0msum\u001b[0m\u001b[1;33m(\u001b[0m\u001b[0mdf_eigval\u001b[0m\u001b[1;33m[\u001b[0m\u001b[1;34m\"Eigenvalues\"\u001b[0m\u001b[1;33m]\u001b[0m\u001b[1;33m)\u001b[0m\u001b[1;33m\u001b[0m\u001b[1;33m\u001b[0m\u001b[0m\n",
      "\u001b[1;31mNameError\u001b[0m: name 'corr_matrix_array' is not defined"
     ]
    }
   ],
   "source": [
    "eigenvalues, eigenvalues = np.linalg.eig(corr_matrix_array)\n",
    "\n",
    "df_eigval = pd.DataFrame({\"Eigenvalues\": eigenvalues}, index = rnge(1,21))\n",
    "\n",
    "df_eigval[\"Explained proportion\"] = df_eigval[\"Eigenvalues\"] / np.sum(df_eigval[\"Eigenvalues\"])\n",
    "#Format as percentage\n",
    "df_eigval.style.format({\"Explained proportion\": \"{:.2%}\"})"
   ]
  },
  {
   "source": [],
   "cell_type": "markdown",
   "metadata": {}
  }
 ]
}