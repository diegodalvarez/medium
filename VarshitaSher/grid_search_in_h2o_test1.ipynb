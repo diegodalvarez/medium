{
 "metadata": {
  "language_info": {
   "codemirror_mode": {
    "name": "ipython",
    "version": 3
   },
   "file_extension": ".py",
   "mimetype": "text/x-python",
   "name": "python",
   "nbconvert_exporter": "python",
   "pygments_lexer": "ipython3",
   "version": "3.7.6-final"
  },
  "orig_nbformat": 2,
  "kernelspec": {
   "name": "python3",
   "display_name": "Python 3"
  }
 },
 "nbformat": 4,
 "nbformat_minor": 2,
 "cells": [
  {
   "cell_type": "code",
   "execution_count": 4,
   "metadata": {},
   "outputs": [],
   "source": [
    "import h2o\n",
    "from h2o.estimators.glm import H2OGeneralizedLinearEstimator"
   ]
  },
  {
   "cell_type": "code",
   "execution_count": 7,
   "metadata": {
    "tags": []
   },
   "outputs": [
    {
     "output_type": "stream",
     "name": "stdout",
     "text": "Checking whether there is an H2O instance running at http://localhost:54321..... not found.\nAttempting to start a local H2O server...\n; Java HotSpot(TM) 64-Bit Server VM (build 14.0.2+12-46, mixed mode, sharing)\n  Starting server from C:\\Users\\Diego\\anaconda3\\lib\\site-packages\\h2o\\backend\\bin\\h2o.jar\n  Ice root: C:\\Users\\Diego\\AppData\\Local\\Temp\\tmplv7es1ee\n  JVM stdout: C:\\Users\\Diego\\AppData\\Local\\Temp\\tmplv7es1ee\\h2o_Diego_started_from_python.out\n  JVM stderr: C:\\Users\\Diego\\AppData\\Local\\Temp\\tmplv7es1ee\\h2o_Diego_started_from_python.err\n  Server is running at http://127.0.0.1:54321\nConnecting to H2O server at http://127.0.0.1:54321 ... successful.\n"
    },
    {
     "output_type": "display_data",
     "data": {
      "text/plain": "--------------------------  ---------------------------------------------------------\nH2O_cluster_uptime:         01 secs\nH2O_cluster_timezone:       America/Los_Angeles\nH2O_data_parsing_timezone:  UTC\nH2O_cluster_version:        3.30.1.1\nH2O_cluster_version_age:    2 days\nH2O_cluster_name:           H2O_from_python_Diego_oj4mrc\nH2O_cluster_total_nodes:    1\nH2O_cluster_free_memory:    4 Gb\nH2O_cluster_total_cores:    8\nH2O_cluster_allowed_cores:  2\nH2O_cluster_status:         accepting new members, healthy\nH2O_connection_url:         http://127.0.0.1:54321\nH2O_connection_proxy:       {\"http\": null, \"https\": null}\nH2O_internal_security:      False\nH2O_API_Extensions:         Amazon S3, Algos, AutoML, Core V3, TargetEncoder, Core V4\nPython_version:             3.7.6 final\n--------------------------  ---------------------------------------------------------",
      "text/html": "<div style=\"overflow:auto\"><table style=\"width:50%\"><tr><td>H2O_cluster_uptime:</td>\n<td>01 secs</td></tr>\n<tr><td>H2O_cluster_timezone:</td>\n<td>America/Los_Angeles</td></tr>\n<tr><td>H2O_data_parsing_timezone:</td>\n<td>UTC</td></tr>\n<tr><td>H2O_cluster_version:</td>\n<td>3.30.1.1</td></tr>\n<tr><td>H2O_cluster_version_age:</td>\n<td>2 days </td></tr>\n<tr><td>H2O_cluster_name:</td>\n<td>H2O_from_python_Diego_oj4mrc</td></tr>\n<tr><td>H2O_cluster_total_nodes:</td>\n<td>1</td></tr>\n<tr><td>H2O_cluster_free_memory:</td>\n<td>4 Gb</td></tr>\n<tr><td>H2O_cluster_total_cores:</td>\n<td>8</td></tr>\n<tr><td>H2O_cluster_allowed_cores:</td>\n<td>2</td></tr>\n<tr><td>H2O_cluster_status:</td>\n<td>accepting new members, healthy</td></tr>\n<tr><td>H2O_connection_url:</td>\n<td>http://127.0.0.1:54321</td></tr>\n<tr><td>H2O_connection_proxy:</td>\n<td>{\"http\": null, \"https\": null}</td></tr>\n<tr><td>H2O_internal_security:</td>\n<td>False</td></tr>\n<tr><td>H2O_API_Extensions:</td>\n<td>Amazon S3, Algos, AutoML, Core V3, TargetEncoder, Core V4</td></tr>\n<tr><td>Python_version:</td>\n<td>3.7.6 final</td></tr></table></div>"
     },
     "metadata": {}
    }
   ],
   "source": [
    "h2o.init(nthreads = 2, max_mem_size = 4)"
   ]
  },
  {
   "cell_type": "code",
   "execution_count": 9,
   "metadata": {
    "tags": []
   },
   "outputs": [
    {
     "output_type": "stream",
     "name": "stdout",
     "text": "Parse progress: |█████████████████████████████████████████████████████████| 100%\n"
    }
   ],
   "source": [
    "df = h2o.import_file(\"loan.csv\")"
   ]
  },
  {
   "cell_type": "code",
   "execution_count": 10,
   "metadata": {},
   "outputs": [
    {
     "output_type": "display_data",
     "data": {
      "text/html": "<table>\n<thead>\n<tr><th style=\"text-align: right;\">  loan_amnt</th><th>term     </th><th style=\"text-align: right;\">  int_rate</th><th style=\"text-align: right;\">  emp_length</th><th>home_ownership  </th><th style=\"text-align: right;\">  annual_inc</th><th>purpose           </th><th>addr_state  </th><th style=\"text-align: right;\">  dti</th><th style=\"text-align: right;\">  delinq_2yrs</th><th style=\"text-align: right;\">  revol_util</th><th style=\"text-align: right;\">  total_acc</th><th style=\"text-align: right;\">  bad_loan</th><th style=\"text-align: right;\">  longest_credit_length</th><th>verification_status  </th></tr>\n</thead>\n<tbody>\n<tr><td style=\"text-align: right;\">       5000</td><td>36 months</td><td style=\"text-align: right;\">     10.65</td><td style=\"text-align: right;\">          10</td><td>RENT            </td><td style=\"text-align: right;\">       24000</td><td>credit_card       </td><td>AZ          </td><td style=\"text-align: right;\">27.65</td><td style=\"text-align: right;\">            0</td><td style=\"text-align: right;\">        83.7</td><td style=\"text-align: right;\">          9</td><td style=\"text-align: right;\">         0</td><td style=\"text-align: right;\">                     26</td><td>verified             </td></tr>\n<tr><td style=\"text-align: right;\">       2500</td><td>60 months</td><td style=\"text-align: right;\">     15.27</td><td style=\"text-align: right;\">           0</td><td>RENT            </td><td style=\"text-align: right;\">       30000</td><td>car               </td><td>GA          </td><td style=\"text-align: right;\"> 1   </td><td style=\"text-align: right;\">            0</td><td style=\"text-align: right;\">         9.4</td><td style=\"text-align: right;\">          4</td><td style=\"text-align: right;\">         1</td><td style=\"text-align: right;\">                     12</td><td>verified             </td></tr>\n<tr><td style=\"text-align: right;\">       2400</td><td>36 months</td><td style=\"text-align: right;\">     15.96</td><td style=\"text-align: right;\">          10</td><td>RENT            </td><td style=\"text-align: right;\">       12252</td><td>small_business    </td><td>IL          </td><td style=\"text-align: right;\"> 8.72</td><td style=\"text-align: right;\">            0</td><td style=\"text-align: right;\">        98.5</td><td style=\"text-align: right;\">         10</td><td style=\"text-align: right;\">         0</td><td style=\"text-align: right;\">                     10</td><td>not verified         </td></tr>\n<tr><td style=\"text-align: right;\">      10000</td><td>36 months</td><td style=\"text-align: right;\">     13.49</td><td style=\"text-align: right;\">          10</td><td>RENT            </td><td style=\"text-align: right;\">       49200</td><td>other             </td><td>CA          </td><td style=\"text-align: right;\">20   </td><td style=\"text-align: right;\">            0</td><td style=\"text-align: right;\">        21  </td><td style=\"text-align: right;\">         37</td><td style=\"text-align: right;\">         0</td><td style=\"text-align: right;\">                     15</td><td>verified             </td></tr>\n<tr><td style=\"text-align: right;\">       5000</td><td>36 months</td><td style=\"text-align: right;\">      7.9 </td><td style=\"text-align: right;\">           3</td><td>RENT            </td><td style=\"text-align: right;\">       36000</td><td>wedding           </td><td>AZ          </td><td style=\"text-align: right;\">11.2 </td><td style=\"text-align: right;\">            0</td><td style=\"text-align: right;\">        28.3</td><td style=\"text-align: right;\">         12</td><td style=\"text-align: right;\">         0</td><td style=\"text-align: right;\">                      7</td><td>verified             </td></tr>\n<tr><td style=\"text-align: right;\">       3000</td><td>36 months</td><td style=\"text-align: right;\">     18.64</td><td style=\"text-align: right;\">           9</td><td>RENT            </td><td style=\"text-align: right;\">       48000</td><td>car               </td><td>CA          </td><td style=\"text-align: right;\"> 5.35</td><td style=\"text-align: right;\">            0</td><td style=\"text-align: right;\">        87.5</td><td style=\"text-align: right;\">          4</td><td style=\"text-align: right;\">         0</td><td style=\"text-align: right;\">                      4</td><td>verified             </td></tr>\n<tr><td style=\"text-align: right;\">       5600</td><td>60 months</td><td style=\"text-align: right;\">     21.28</td><td style=\"text-align: right;\">           4</td><td>OWN             </td><td style=\"text-align: right;\">       40000</td><td>small_business    </td><td>CA          </td><td style=\"text-align: right;\"> 5.55</td><td style=\"text-align: right;\">            0</td><td style=\"text-align: right;\">        32.6</td><td style=\"text-align: right;\">         13</td><td style=\"text-align: right;\">         1</td><td style=\"text-align: right;\">                      7</td><td>verified             </td></tr>\n<tr><td style=\"text-align: right;\">       5375</td><td>60 months</td><td style=\"text-align: right;\">     12.69</td><td style=\"text-align: right;\">           0</td><td>RENT            </td><td style=\"text-align: right;\">       15000</td><td>other             </td><td>TX          </td><td style=\"text-align: right;\">18.08</td><td style=\"text-align: right;\">            0</td><td style=\"text-align: right;\">        36.5</td><td style=\"text-align: right;\">          3</td><td style=\"text-align: right;\">         1</td><td style=\"text-align: right;\">                      7</td><td>verified             </td></tr>\n<tr><td style=\"text-align: right;\">       6500</td><td>60 months</td><td style=\"text-align: right;\">     14.65</td><td style=\"text-align: right;\">           5</td><td>OWN             </td><td style=\"text-align: right;\">       72000</td><td>debt_consolidation</td><td>AZ          </td><td style=\"text-align: right;\">16.12</td><td style=\"text-align: right;\">            0</td><td style=\"text-align: right;\">        20.6</td><td style=\"text-align: right;\">         23</td><td style=\"text-align: right;\">         0</td><td style=\"text-align: right;\">                     13</td><td>not verified         </td></tr>\n<tr><td style=\"text-align: right;\">      12000</td><td>36 months</td><td style=\"text-align: right;\">     12.69</td><td style=\"text-align: right;\">          10</td><td>OWN             </td><td style=\"text-align: right;\">       75000</td><td>debt_consolidation</td><td>CA          </td><td style=\"text-align: right;\">10.78</td><td style=\"text-align: right;\">            0</td><td style=\"text-align: right;\">        67.1</td><td style=\"text-align: right;\">         34</td><td style=\"text-align: right;\">         0</td><td style=\"text-align: right;\">                     22</td><td>verified             </td></tr>\n</tbody>\n</table>"
     },
     "metadata": {}
    },
    {
     "output_type": "execute_result",
     "data": {
      "text/plain": "<bound method H2OFrame.describe of >"
     },
     "metadata": {},
     "execution_count": 10
    }
   ],
   "source": [
    "df.describe"
   ]
  },
  {
   "cell_type": "code",
   "execution_count": 11,
   "metadata": {},
   "outputs": [
    {
     "output_type": "execute_result",
     "data": {
      "text/plain": "(163987, 15)"
     },
     "metadata": {},
     "execution_count": 11
    }
   ],
   "source": [
    "df.shape"
   ]
  },
  {
   "cell_type": "code",
   "execution_count": 12,
   "metadata": {},
   "outputs": [],
   "source": [
    "split = df.split_frame(ratios = [0.7, 0.15])\n",
    "train, validate, test = split"
   ]
  },
  {
   "cell_type": "code",
   "execution_count": 14,
   "metadata": {},
   "outputs": [
    {
     "output_type": "execute_result",
     "data": {
      "text/plain": "(114758, 15)"
     },
     "metadata": {},
     "execution_count": 14
    }
   ],
   "source": [
    "train.shape"
   ]
  },
  {
   "cell_type": "code",
   "execution_count": 15,
   "metadata": {},
   "outputs": [
    {
     "output_type": "execute_result",
     "data": {
      "text/plain": "(24761, 15)"
     },
     "metadata": {},
     "execution_count": 15
    }
   ],
   "source": [
    "validate.shape"
   ]
  },
  {
   "cell_type": "code",
   "execution_count": 16,
   "metadata": {},
   "outputs": [
    {
     "output_type": "execute_result",
     "data": {
      "text/plain": "(24468, 15)"
     },
     "metadata": {},
     "execution_count": 16
    }
   ],
   "source": [
    "test.shape"
   ]
  },
  {
   "cell_type": "code",
   "execution_count": 17,
   "metadata": {},
   "outputs": [
    {
     "output_type": "execute_result",
     "data": {
      "text/plain": "['loan_amnt',\n 'term',\n 'int_rate',\n 'emp_length',\n 'home_ownership',\n 'annual_inc',\n 'purpose',\n 'addr_state',\n 'dti',\n 'delinq_2yrs',\n 'revol_util',\n 'total_acc',\n 'bad_loan',\n 'longest_credit_length',\n 'verification_status']"
     },
     "metadata": {},
     "execution_count": 17
    }
   ],
   "source": [
    "df.columns"
   ]
  },
  {
   "cell_type": "code",
   "execution_count": 26,
   "metadata": {},
   "outputs": [],
   "source": [
    "x = ['loan_amnt', 'term', 'int_rate', 'emp_length', 'home_ownership', 'annual_inc', 'purpose', 'addr_state', 'dti', 'delinq_2yrs', 'revol_util', 'total_acc', 'bad_loan', 'longest_credit_length']\n",
    "y = 'verification_status'"
   ]
  },
  {
   "cell_type": "code",
   "execution_count": 27,
   "metadata": {},
   "outputs": [],
   "source": [
    "glm = H2OGeneralizedLinearEstimator(family = 'binomial', alpha = 0.15)"
   ]
  },
  {
   "cell_type": "code",
   "execution_count": 28,
   "metadata": {
    "tags": []
   },
   "outputs": [
    {
     "output_type": "stream",
     "name": "stdout",
     "text": "glm Model Build progress: |███████████████████████████████████████████████| 100%\n"
    }
   ],
   "source": [
    "glm.train(x = x, y = y, training_frame = train)"
   ]
  },
  {
   "cell_type": "code",
   "execution_count": 29,
   "metadata": {
    "tags": []
   },
   "outputs": [
    {
     "output_type": "stream",
     "name": "stdout",
     "text": "\nModelMetricsBinomialGLM: glm\n** Reported on test data. **\n\nMSE: 0.1905413469248778\nRMSE: 0.43651042017903513\nLogLoss: 0.5513902524985129\nNull degrees of freedom: 24467\nResidual degrees of freedom: 24432\nNull deviance: 32124.261690550815\nResidual deviance: 26982.83339626723\nAIC: 27054.83339626723\nAUC: 0.7494982602626198\nAUCPR: 0.8560782820598072\nGini: 0.4989965205252396\n\nConfusion Matrix (Act/Pred) for max f1 @ threshold = 0.3309150525654554:\n"
    },
    {
     "output_type": "display_data",
     "data": {
      "text/plain": "                 not verified  verified   Error               Rate\n0  not verified         649.0    8288.0  0.9274    (8288.0/8937.0)\n1      verified         378.0   15153.0  0.0243    (378.0/15531.0)\n2         Total        1027.0   23441.0  0.3542   (8666.0/24468.0)",
      "text/html": "<div>\n<style scoped>\n    .dataframe tbody tr th:only-of-type {\n        vertical-align: middle;\n    }\n\n    .dataframe tbody tr th {\n        vertical-align: top;\n    }\n\n    .dataframe thead th {\n        text-align: right;\n    }\n</style>\n<table border=\"1\" class=\"dataframe\">\n  <thead>\n    <tr style=\"text-align: right;\">\n      <th></th>\n      <th></th>\n      <th>not verified</th>\n      <th>verified</th>\n      <th>Error</th>\n      <th>Rate</th>\n    </tr>\n  </thead>\n  <tbody>\n    <tr>\n      <th>0</th>\n      <td>not verified</td>\n      <td>649.0</td>\n      <td>8288.0</td>\n      <td>0.9274</td>\n      <td>(8288.0/8937.0)</td>\n    </tr>\n    <tr>\n      <th>1</th>\n      <td>verified</td>\n      <td>378.0</td>\n      <td>15153.0</td>\n      <td>0.0243</td>\n      <td>(378.0/15531.0)</td>\n    </tr>\n    <tr>\n      <th>2</th>\n      <td>Total</td>\n      <td>1027.0</td>\n      <td>23441.0</td>\n      <td>0.3542</td>\n      <td>(8666.0/24468.0)</td>\n    </tr>\n  </tbody>\n</table>\n</div>"
     },
     "metadata": {}
    },
    {
     "output_type": "stream",
     "name": "stdout",
     "text": "\nMaximum Metrics: Maximum metrics at their respective thresholds\n"
    },
    {
     "output_type": "display_data",
     "data": {
      "text/plain": "                         metric  threshold         value    idx\n0                        max f1   0.330915      0.777635  358.0\n1                        max f2   0.201631      0.896833  397.0\n2                  max f0point5   0.661315      0.771724  171.0\n3                  max accuracy   0.542434      0.684895  241.0\n4                 max precision   0.994079      1.000000    0.0\n5                    max recall   0.201631      1.000000  397.0\n6               max specificity   0.994079      1.000000    0.0\n7              max absolute_mcc   0.728950      0.393054  136.0\n8    max min_per_class_accuracy   0.584052      0.681996  215.0\n9   max mean_per_class_accuracy   0.670872      0.695692  166.0\n10                      max tns   0.994079   8937.000000    0.0\n11                      max fns   0.994079  15517.000000    0.0\n12                      max fps   0.176802   8937.000000  399.0\n13                      max tps   0.201631  15531.000000  397.0\n14                      max tnr   0.994079      1.000000    0.0\n15                      max fnr   0.994079      0.999099    0.0\n16                      max fpr   0.176802      1.000000  399.0\n17                      max tpr   0.201631      1.000000  397.0",
      "text/html": "<div>\n<style scoped>\n    .dataframe tbody tr th:only-of-type {\n        vertical-align: middle;\n    }\n\n    .dataframe tbody tr th {\n        vertical-align: top;\n    }\n\n    .dataframe thead th {\n        text-align: right;\n    }\n</style>\n<table border=\"1\" class=\"dataframe\">\n  <thead>\n    <tr style=\"text-align: right;\">\n      <th></th>\n      <th>metric</th>\n      <th>threshold</th>\n      <th>value</th>\n      <th>idx</th>\n    </tr>\n  </thead>\n  <tbody>\n    <tr>\n      <th>0</th>\n      <td>max f1</td>\n      <td>0.330915</td>\n      <td>0.777635</td>\n      <td>358.0</td>\n    </tr>\n    <tr>\n      <th>1</th>\n      <td>max f2</td>\n      <td>0.201631</td>\n      <td>0.896833</td>\n      <td>397.0</td>\n    </tr>\n    <tr>\n      <th>2</th>\n      <td>max f0point5</td>\n      <td>0.661315</td>\n      <td>0.771724</td>\n      <td>171.0</td>\n    </tr>\n    <tr>\n      <th>3</th>\n      <td>max accuracy</td>\n      <td>0.542434</td>\n      <td>0.684895</td>\n      <td>241.0</td>\n    </tr>\n    <tr>\n      <th>4</th>\n      <td>max precision</td>\n      <td>0.994079</td>\n      <td>1.000000</td>\n      <td>0.0</td>\n    </tr>\n    <tr>\n      <th>5</th>\n      <td>max recall</td>\n      <td>0.201631</td>\n      <td>1.000000</td>\n      <td>397.0</td>\n    </tr>\n    <tr>\n      <th>6</th>\n      <td>max specificity</td>\n      <td>0.994079</td>\n      <td>1.000000</td>\n      <td>0.0</td>\n    </tr>\n    <tr>\n      <th>7</th>\n      <td>max absolute_mcc</td>\n      <td>0.728950</td>\n      <td>0.393054</td>\n      <td>136.0</td>\n    </tr>\n    <tr>\n      <th>8</th>\n      <td>max min_per_class_accuracy</td>\n      <td>0.584052</td>\n      <td>0.681996</td>\n      <td>215.0</td>\n    </tr>\n    <tr>\n      <th>9</th>\n      <td>max mean_per_class_accuracy</td>\n      <td>0.670872</td>\n      <td>0.695692</td>\n      <td>166.0</td>\n    </tr>\n    <tr>\n      <th>10</th>\n      <td>max tns</td>\n      <td>0.994079</td>\n      <td>8937.000000</td>\n      <td>0.0</td>\n    </tr>\n    <tr>\n      <th>11</th>\n      <td>max fns</td>\n      <td>0.994079</td>\n      <td>15517.000000</td>\n      <td>0.0</td>\n    </tr>\n    <tr>\n      <th>12</th>\n      <td>max fps</td>\n      <td>0.176802</td>\n      <td>8937.000000</td>\n      <td>399.0</td>\n    </tr>\n    <tr>\n      <th>13</th>\n      <td>max tps</td>\n      <td>0.201631</td>\n      <td>15531.000000</td>\n      <td>397.0</td>\n    </tr>\n    <tr>\n      <th>14</th>\n      <td>max tnr</td>\n      <td>0.994079</td>\n      <td>1.000000</td>\n      <td>0.0</td>\n    </tr>\n    <tr>\n      <th>15</th>\n      <td>max fnr</td>\n      <td>0.994079</td>\n      <td>0.999099</td>\n      <td>0.0</td>\n    </tr>\n    <tr>\n      <th>16</th>\n      <td>max fpr</td>\n      <td>0.176802</td>\n      <td>1.000000</td>\n      <td>399.0</td>\n    </tr>\n    <tr>\n      <th>17</th>\n      <td>max tpr</td>\n      <td>0.201631</td>\n      <td>1.000000</td>\n      <td>397.0</td>\n    </tr>\n  </tbody>\n</table>\n</div>"
     },
     "metadata": {}
    },
    {
     "output_type": "stream",
     "name": "stdout",
     "text": "\nGains/Lift Table: Avg response rate: 63.47 %, avg score: 63.91 %\n"
    },
    {
     "output_type": "display_data",
     "data": {
      "text/plain": "    group  cumulative_data_fraction  lower_threshold      lift  \\\n0       1                  0.010013         0.985869  1.575430   \n1       2                  0.020026         0.980807  1.556139   \n2       3                  0.030039         0.975309  1.549708   \n3       4                  0.040011         0.969033  1.549603   \n4       5                  0.050025         0.963565  1.530418   \n5       6                  0.100008         0.938540  1.543226   \n6       7                  0.150033         0.908957  1.489193   \n7       8                  0.200016         0.870022  1.438884   \n8       9                  0.300025         0.765889  1.321764   \n9      10                  0.399992         0.681645  1.082705   \n10     11                  0.500000         0.612780  0.974745   \n11     12                  0.600008         0.554899  0.845981   \n12     13                  0.699975         0.501442  0.756799   \n13     14                  0.799984         0.447275  0.712710   \n14     15                  0.899992         0.382266  0.677300   \n15     16                  1.000000         0.176802  0.616137   \n\n    cumulative_lift  response_rate     score  cumulative_response_rate  \\\n0          1.575430       1.000000  0.988668                  1.000000   \n1          1.565784       0.987755  0.983262                  0.993878   \n2          1.560426       0.983673  0.977982                  0.990476   \n3          1.557728       0.983607  0.972371                  0.988764   \n4          1.552262       0.971429  0.966126                  0.985294   \n5          1.547745       0.979558  0.951178                  0.982427   \n6          1.528223       0.945261  0.924079                  0.970035   \n7          1.505897       0.913328  0.890329                  0.955864   \n8          1.444520       0.838987  0.817934                  0.916905   \n9          1.354094       0.687244  0.721989                  0.859508   \n10         1.278218       0.618717  0.645388                  0.811345   \n11         1.206173       0.536984  0.583518                  0.765615   \n12         1.141996       0.480376  0.527776                  0.724879   \n13         1.088329       0.452391  0.474759                  0.690814   \n14         1.042655       0.429914  0.416534                  0.661823   \n15         1.000000       0.391091  0.330966                  0.634747   \n\n    cumulative_score  capture_rate  cumulative_capture_rate       gain  \\\n0           0.988668      0.015775                 0.015775  57.542979   \n1           0.985965      0.015582                 0.031357  55.613881   \n2           0.983304      0.015517                 0.046874  54.970848   \n3           0.980579      0.015453                 0.062327  54.960307   \n4           0.977686      0.015324                 0.077651  53.041751   \n5           0.964437      0.077136                 0.154787  54.322558   \n6           0.950981      0.074496                 0.229283  48.919302   \n7           0.935824      0.071921                 0.301204  43.888395   \n8           0.896528      0.132187                 0.433391  32.176434   \n9           0.852906      0.108235                 0.541626   8.270543   \n10          0.811399      0.097482                 0.639109  -2.525513   \n11          0.773416      0.084605                 0.723714 -15.401931   \n12          0.738335      0.075655                 0.799369 -24.320115   \n13          0.705385      0.071277                 0.870646 -28.729024   \n14          0.673287      0.067735                 0.938381 -32.270039   \n15          0.639052      0.061619                 1.000000 -38.386338   \n\n    cumulative_gain  kolmogorov_smirnov  \n0         57.542979            0.015775  \n1         56.578430            0.031021  \n2         56.042569            0.046091  \n3         55.772833            0.061096  \n4         55.226170            0.075637  \n5         54.774549            0.149976  \n6         52.822268            0.216975  \n7         50.589713            0.277035  \n8         44.451953            0.365136  \n9         35.409373            0.387772  \n10        27.821776            0.380857  \n11        20.617334            0.338685  \n12        14.199573            0.272123  \n13         8.832950            0.193461  \n14         4.265536            0.105104  \n15         0.000000            0.000000  ",
      "text/html": "<div>\n<style scoped>\n    .dataframe tbody tr th:only-of-type {\n        vertical-align: middle;\n    }\n\n    .dataframe tbody tr th {\n        vertical-align: top;\n    }\n\n    .dataframe thead th {\n        text-align: right;\n    }\n</style>\n<table border=\"1\" class=\"dataframe\">\n  <thead>\n    <tr style=\"text-align: right;\">\n      <th></th>\n      <th>group</th>\n      <th>cumulative_data_fraction</th>\n      <th>lower_threshold</th>\n      <th>lift</th>\n      <th>cumulative_lift</th>\n      <th>response_rate</th>\n      <th>score</th>\n      <th>cumulative_response_rate</th>\n      <th>cumulative_score</th>\n      <th>capture_rate</th>\n      <th>cumulative_capture_rate</th>\n      <th>gain</th>\n      <th>cumulative_gain</th>\n      <th>kolmogorov_smirnov</th>\n    </tr>\n  </thead>\n  <tbody>\n    <tr>\n      <th>0</th>\n      <td>1</td>\n      <td>0.010013</td>\n      <td>0.985869</td>\n      <td>1.575430</td>\n      <td>1.575430</td>\n      <td>1.000000</td>\n      <td>0.988668</td>\n      <td>1.000000</td>\n      <td>0.988668</td>\n      <td>0.015775</td>\n      <td>0.015775</td>\n      <td>57.542979</td>\n      <td>57.542979</td>\n      <td>0.015775</td>\n    </tr>\n    <tr>\n      <th>1</th>\n      <td>2</td>\n      <td>0.020026</td>\n      <td>0.980807</td>\n      <td>1.556139</td>\n      <td>1.565784</td>\n      <td>0.987755</td>\n      <td>0.983262</td>\n      <td>0.993878</td>\n      <td>0.985965</td>\n      <td>0.015582</td>\n      <td>0.031357</td>\n      <td>55.613881</td>\n      <td>56.578430</td>\n      <td>0.031021</td>\n    </tr>\n    <tr>\n      <th>2</th>\n      <td>3</td>\n      <td>0.030039</td>\n      <td>0.975309</td>\n      <td>1.549708</td>\n      <td>1.560426</td>\n      <td>0.983673</td>\n      <td>0.977982</td>\n      <td>0.990476</td>\n      <td>0.983304</td>\n      <td>0.015517</td>\n      <td>0.046874</td>\n      <td>54.970848</td>\n      <td>56.042569</td>\n      <td>0.046091</td>\n    </tr>\n    <tr>\n      <th>3</th>\n      <td>4</td>\n      <td>0.040011</td>\n      <td>0.969033</td>\n      <td>1.549603</td>\n      <td>1.557728</td>\n      <td>0.983607</td>\n      <td>0.972371</td>\n      <td>0.988764</td>\n      <td>0.980579</td>\n      <td>0.015453</td>\n      <td>0.062327</td>\n      <td>54.960307</td>\n      <td>55.772833</td>\n      <td>0.061096</td>\n    </tr>\n    <tr>\n      <th>4</th>\n      <td>5</td>\n      <td>0.050025</td>\n      <td>0.963565</td>\n      <td>1.530418</td>\n      <td>1.552262</td>\n      <td>0.971429</td>\n      <td>0.966126</td>\n      <td>0.985294</td>\n      <td>0.977686</td>\n      <td>0.015324</td>\n      <td>0.077651</td>\n      <td>53.041751</td>\n      <td>55.226170</td>\n      <td>0.075637</td>\n    </tr>\n    <tr>\n      <th>5</th>\n      <td>6</td>\n      <td>0.100008</td>\n      <td>0.938540</td>\n      <td>1.543226</td>\n      <td>1.547745</td>\n      <td>0.979558</td>\n      <td>0.951178</td>\n      <td>0.982427</td>\n      <td>0.964437</td>\n      <td>0.077136</td>\n      <td>0.154787</td>\n      <td>54.322558</td>\n      <td>54.774549</td>\n      <td>0.149976</td>\n    </tr>\n    <tr>\n      <th>6</th>\n      <td>7</td>\n      <td>0.150033</td>\n      <td>0.908957</td>\n      <td>1.489193</td>\n      <td>1.528223</td>\n      <td>0.945261</td>\n      <td>0.924079</td>\n      <td>0.970035</td>\n      <td>0.950981</td>\n      <td>0.074496</td>\n      <td>0.229283</td>\n      <td>48.919302</td>\n      <td>52.822268</td>\n      <td>0.216975</td>\n    </tr>\n    <tr>\n      <th>7</th>\n      <td>8</td>\n      <td>0.200016</td>\n      <td>0.870022</td>\n      <td>1.438884</td>\n      <td>1.505897</td>\n      <td>0.913328</td>\n      <td>0.890329</td>\n      <td>0.955864</td>\n      <td>0.935824</td>\n      <td>0.071921</td>\n      <td>0.301204</td>\n      <td>43.888395</td>\n      <td>50.589713</td>\n      <td>0.277035</td>\n    </tr>\n    <tr>\n      <th>8</th>\n      <td>9</td>\n      <td>0.300025</td>\n      <td>0.765889</td>\n      <td>1.321764</td>\n      <td>1.444520</td>\n      <td>0.838987</td>\n      <td>0.817934</td>\n      <td>0.916905</td>\n      <td>0.896528</td>\n      <td>0.132187</td>\n      <td>0.433391</td>\n      <td>32.176434</td>\n      <td>44.451953</td>\n      <td>0.365136</td>\n    </tr>\n    <tr>\n      <th>9</th>\n      <td>10</td>\n      <td>0.399992</td>\n      <td>0.681645</td>\n      <td>1.082705</td>\n      <td>1.354094</td>\n      <td>0.687244</td>\n      <td>0.721989</td>\n      <td>0.859508</td>\n      <td>0.852906</td>\n      <td>0.108235</td>\n      <td>0.541626</td>\n      <td>8.270543</td>\n      <td>35.409373</td>\n      <td>0.387772</td>\n    </tr>\n    <tr>\n      <th>10</th>\n      <td>11</td>\n      <td>0.500000</td>\n      <td>0.612780</td>\n      <td>0.974745</td>\n      <td>1.278218</td>\n      <td>0.618717</td>\n      <td>0.645388</td>\n      <td>0.811345</td>\n      <td>0.811399</td>\n      <td>0.097482</td>\n      <td>0.639109</td>\n      <td>-2.525513</td>\n      <td>27.821776</td>\n      <td>0.380857</td>\n    </tr>\n    <tr>\n      <th>11</th>\n      <td>12</td>\n      <td>0.600008</td>\n      <td>0.554899</td>\n      <td>0.845981</td>\n      <td>1.206173</td>\n      <td>0.536984</td>\n      <td>0.583518</td>\n      <td>0.765615</td>\n      <td>0.773416</td>\n      <td>0.084605</td>\n      <td>0.723714</td>\n      <td>-15.401931</td>\n      <td>20.617334</td>\n      <td>0.338685</td>\n    </tr>\n    <tr>\n      <th>12</th>\n      <td>13</td>\n      <td>0.699975</td>\n      <td>0.501442</td>\n      <td>0.756799</td>\n      <td>1.141996</td>\n      <td>0.480376</td>\n      <td>0.527776</td>\n      <td>0.724879</td>\n      <td>0.738335</td>\n      <td>0.075655</td>\n      <td>0.799369</td>\n      <td>-24.320115</td>\n      <td>14.199573</td>\n      <td>0.272123</td>\n    </tr>\n    <tr>\n      <th>13</th>\n      <td>14</td>\n      <td>0.799984</td>\n      <td>0.447275</td>\n      <td>0.712710</td>\n      <td>1.088329</td>\n      <td>0.452391</td>\n      <td>0.474759</td>\n      <td>0.690814</td>\n      <td>0.705385</td>\n      <td>0.071277</td>\n      <td>0.870646</td>\n      <td>-28.729024</td>\n      <td>8.832950</td>\n      <td>0.193461</td>\n    </tr>\n    <tr>\n      <th>14</th>\n      <td>15</td>\n      <td>0.899992</td>\n      <td>0.382266</td>\n      <td>0.677300</td>\n      <td>1.042655</td>\n      <td>0.429914</td>\n      <td>0.416534</td>\n      <td>0.661823</td>\n      <td>0.673287</td>\n      <td>0.067735</td>\n      <td>0.938381</td>\n      <td>-32.270039</td>\n      <td>4.265536</td>\n      <td>0.105104</td>\n    </tr>\n    <tr>\n      <th>15</th>\n      <td>16</td>\n      <td>1.000000</td>\n      <td>0.176802</td>\n      <td>0.616137</td>\n      <td>1.000000</td>\n      <td>0.391091</td>\n      <td>0.330966</td>\n      <td>0.634747</td>\n      <td>0.639052</td>\n      <td>0.061619</td>\n      <td>1.000000</td>\n      <td>-38.386338</td>\n      <td>0.000000</td>\n      <td>0.000000</td>\n    </tr>\n  </tbody>\n</table>\n</div>"
     },
     "metadata": {}
    },
    {
     "output_type": "stream",
     "name": "stdout",
     "text": "\n"
    },
    {
     "output_type": "execute_result",
     "data": {
      "text/plain": ""
     },
     "metadata": {},
     "execution_count": 29
    }
   ],
   "source": [
    "glm.model_performance(test)"
   ]
  },
  {
   "cell_type": "markdown",
   "metadata": {},
   "source": [
    "This is the simple regression model"
   ]
  },
  {
   "cell_type": "code",
   "execution_count": 31,
   "metadata": {},
   "outputs": [],
   "source": [
    "from h2o.grid.grid_search import H2OGridSearch"
   ]
  },
  {
   "cell_type": "markdown",
   "metadata": {},
   "source": [
    "Define the search space"
   ]
  },
  {
   "cell_type": "code",
   "execution_count": null,
   "metadata": {},
   "outputs": [],
   "source": [
    "param = {'alpha': [x * 0.01 for x in range(0,11)]}"
   ]
  },
  {
   "cell_type": "markdown",
   "metadata": {},
   "source": [
    "Initialize the grid-search instance"
   ]
  },
  {
   "cell_type": "code",
   "execution_count": 37,
   "metadata": {},
   "outputs": [],
   "source": [
    "h2o_grid = H2OGridSearch(model = H2OGeneralizedLinearEstimator(family = 'binomial'), hyper_params = param, search_criteria = {'strategy': 'Cartesian'}, grid_id = 'glm_grid1')"
   ]
  },
  {
   "cell_type": "markdown",
   "metadata": {},
   "source": [
    "Train the grid"
   ]
  },
  {
   "cell_type": "code",
   "execution_count": 38,
   "metadata": {
    "tags": []
   },
   "outputs": [
    {
     "output_type": "stream",
     "name": "stdout",
     "text": "glm Grid Build progress: |████████████████████████████████████████████████| 100%\n"
    }
   ],
   "source": [
    "h2o_grid.train(x = x, y = y, training_frame = train, validation_frame = validate, lambda_search = True)"
   ]
  },
  {
   "cell_type": "markdown",
   "metadata": {},
   "source": [
    "Get the best hyperparemeters from the model"
   ]
  },
  {
   "cell_type": "code",
   "execution_count": 39,
   "metadata": {
    "tags": []
   },
   "outputs": [
    {
     "output_type": "stream",
     "name": "stdout",
     "text": "alpha           model_ids                 auc\n0      [0.0]   glm_grid1_model_1  0.7493283308247519\n1     [0.05]   glm_grid1_model_6  0.7492848270058606\n2     [0.04]   glm_grid1_model_5  0.7492490491207315\n3     [0.02]   glm_grid1_model_3  0.7492184489171142\n4     [0.03]   glm_grid1_model_4  0.7492184312699379\n5     [0.01]   glm_grid1_model_2  0.7492143335956127\n6      [0.1]  glm_grid1_model_11  0.7492019382190148\n7     [0.09]  glm_grid1_model_10  0.7491787321822461\n8     [0.08]   glm_grid1_model_9  0.7491290059690091\n9     [0.07]   glm_grid1_model_8  0.7491184776636584\n10    [0.06]   glm_grid1_model_7  0.7491078540635561\n"
    },
    {
     "output_type": "execute_result",
     "data": {
      "text/plain": ""
     },
     "metadata": {},
     "execution_count": 39
    }
   ],
   "source": [
    "cartesian_grid_perf = h2o_grid.get_grid(sort_by = 'auc', decreasing = True)\n",
    "cartesian_grid_perf"
   ]
  },
  {
   "cell_type": "markdown",
   "metadata": {},
   "source": [
    "Now we want the best model so we will just grab the top one"
   ]
  },
  {
   "cell_type": "code",
   "execution_count": 40,
   "metadata": {},
   "outputs": [],
   "source": [
    "best_cart_model = cartesian_grid_perf.models[0]"
   ]
  },
  {
   "cell_type": "markdown",
   "metadata": {},
   "source": [
    "This is the random search part"
   ]
  },
  {
   "cell_type": "code",
   "execution_count": 42,
   "metadata": {},
   "outputs": [],
   "source": [
    "params = {'alpha': [x * 0.01 for x in range(0,99)]}"
   ]
  },
  {
   "cell_type": "code",
   "execution_count": 43,
   "metadata": {},
   "outputs": [],
   "source": [
    "# this will make sure that 30 models have been checked\n",
    "search_criteria = {\"strategy\": \"RandomDiscrete\", \"max_models\": 30}"
   ]
  },
  {
   "cell_type": "code",
   "execution_count": 50,
   "metadata": {},
   "outputs": [],
   "source": [
    "h2o_grid2 = H2OGridSearch(model = H2OGeneralizedLinearEstimator(family = 'binomial'), hyper_params = params, search_criteria = search_criteria, grid_id = 'glm_grid2')"
   ]
  },
  {
   "cell_type": "code",
   "execution_count": 51,
   "metadata": {},
   "outputs": [
    {
     "output_type": "error",
     "ename": "TypeError",
     "evalue": "'H2OGridSearch' object is not callable",
     "traceback": [
      "\u001b[1;31m---------------------------------------------------------------------------\u001b[0m",
      "\u001b[1;31mTypeError\u001b[0m                                 Traceback (most recent call last)",
      "\u001b[1;32m<ipython-input-51-84ff4238eb4d>\u001b[0m in \u001b[0;36m<module>\u001b[1;34m\u001b[0m\n\u001b[1;32m----> 1\u001b[1;33m \u001b[0mh2o_grid2\u001b[0m\u001b[1;33m(\u001b[0m\u001b[0mx\u001b[0m \u001b[1;33m=\u001b[0m \u001b[0mx\u001b[0m\u001b[1;33m,\u001b[0m \u001b[0my\u001b[0m \u001b[1;33m=\u001b[0m \u001b[0my\u001b[0m\u001b[1;33m,\u001b[0m \u001b[0mtraining_frame\u001b[0m \u001b[1;33m=\u001b[0m \u001b[0mtrain\u001b[0m\u001b[1;33m,\u001b[0m \u001b[0mvalidaiton_frame\u001b[0m \u001b[1;33m=\u001b[0m \u001b[0mvalidate\u001b[0m\u001b[1;33m,\u001b[0m \u001b[0mlambda_search\u001b[0m \u001b[1;33m=\u001b[0m \u001b[1;32mTrue\u001b[0m\u001b[1;33m)\u001b[0m\u001b[1;33m\u001b[0m\u001b[1;33m\u001b[0m\u001b[0m\n\u001b[0m",
      "\u001b[1;31mTypeError\u001b[0m: 'H2OGridSearch' object is not callable"
     ]
    }
   ],
   "source": [
    "h2o_grid2(x = x, y = y, training_frame = train, validaiton_frame = validate, lambda_search = True)"
   ]
  },
  {
   "cell_type": "code",
   "execution_count": null,
   "metadata": {},
   "outputs": [],
   "source": []
  }
 ]
}