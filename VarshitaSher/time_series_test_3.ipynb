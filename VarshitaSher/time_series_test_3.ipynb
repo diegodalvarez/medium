{
 "metadata": {
  "language_info": {
   "codemirror_mode": {
    "name": "ipython",
    "version": 3
   },
   "file_extension": ".py",
   "mimetype": "text/x-python",
   "name": "python",
   "nbconvert_exporter": "python",
   "pygments_lexer": "ipython3",
   "version": "3.7.6-final"
  },
  "orig_nbformat": 2,
  "kernelspec": {
   "name": "python3",
   "display_name": "Python 3"
  }
 },
 "nbformat": 4,
 "nbformat_minor": 2,
 "cells": [
  {
   "cell_type": "markdown",
   "metadata": {},
   "source": [
    "This will start at feature engineering and there may be some datat things that need to be worked out before we get to the feature engineering part"
   ]
  },
  {
   "cell_type": "code",
   "execution_count": 3,
   "metadata": {},
   "outputs": [],
   "source": [
    "import pandas as pd "
   ]
  },
  {
   "cell_type": "code",
   "execution_count": 4,
   "metadata": {},
   "outputs": [
    {
     "output_type": "execute_result",
     "data": {
      "text/plain": "            Consumption     Wind   Solar  Wind+Solar\nDate                                                \n2006-01-01   1069.18400      NaN     NaN         NaN\n2006-01-02   1380.52100      NaN     NaN         NaN\n2006-01-03   1442.53300      NaN     NaN         NaN\n2006-01-04   1457.21700      NaN     NaN         NaN\n2006-01-05   1477.13100      NaN     NaN         NaN\n...                 ...      ...     ...         ...\n2017-12-27   1263.94091  394.507  16.530     411.037\n2017-12-28   1299.86398  506.424  14.162     520.586\n2017-12-29   1295.08753  584.277  29.854     614.131\n2017-12-30   1215.44897  721.247   7.467     728.714\n2017-12-31   1107.11488  721.176  19.980     741.156\n\n[4383 rows x 4 columns]",
      "text/html": "<div>\n<style scoped>\n    .dataframe tbody tr th:only-of-type {\n        vertical-align: middle;\n    }\n\n    .dataframe tbody tr th {\n        vertical-align: top;\n    }\n\n    .dataframe thead th {\n        text-align: right;\n    }\n</style>\n<table border=\"1\" class=\"dataframe\">\n  <thead>\n    <tr style=\"text-align: right;\">\n      <th></th>\n      <th>Consumption</th>\n      <th>Wind</th>\n      <th>Solar</th>\n      <th>Wind+Solar</th>\n    </tr>\n    <tr>\n      <th>Date</th>\n      <th></th>\n      <th></th>\n      <th></th>\n      <th></th>\n    </tr>\n  </thead>\n  <tbody>\n    <tr>\n      <th>2006-01-01</th>\n      <td>1069.18400</td>\n      <td>NaN</td>\n      <td>NaN</td>\n      <td>NaN</td>\n    </tr>\n    <tr>\n      <th>2006-01-02</th>\n      <td>1380.52100</td>\n      <td>NaN</td>\n      <td>NaN</td>\n      <td>NaN</td>\n    </tr>\n    <tr>\n      <th>2006-01-03</th>\n      <td>1442.53300</td>\n      <td>NaN</td>\n      <td>NaN</td>\n      <td>NaN</td>\n    </tr>\n    <tr>\n      <th>2006-01-04</th>\n      <td>1457.21700</td>\n      <td>NaN</td>\n      <td>NaN</td>\n      <td>NaN</td>\n    </tr>\n    <tr>\n      <th>2006-01-05</th>\n      <td>1477.13100</td>\n      <td>NaN</td>\n      <td>NaN</td>\n      <td>NaN</td>\n    </tr>\n    <tr>\n      <th>...</th>\n      <td>...</td>\n      <td>...</td>\n      <td>...</td>\n      <td>...</td>\n    </tr>\n    <tr>\n      <th>2017-12-27</th>\n      <td>1263.94091</td>\n      <td>394.507</td>\n      <td>16.530</td>\n      <td>411.037</td>\n    </tr>\n    <tr>\n      <th>2017-12-28</th>\n      <td>1299.86398</td>\n      <td>506.424</td>\n      <td>14.162</td>\n      <td>520.586</td>\n    </tr>\n    <tr>\n      <th>2017-12-29</th>\n      <td>1295.08753</td>\n      <td>584.277</td>\n      <td>29.854</td>\n      <td>614.131</td>\n    </tr>\n    <tr>\n      <th>2017-12-30</th>\n      <td>1215.44897</td>\n      <td>721.247</td>\n      <td>7.467</td>\n      <td>728.714</td>\n    </tr>\n    <tr>\n      <th>2017-12-31</th>\n      <td>1107.11488</td>\n      <td>721.176</td>\n      <td>19.980</td>\n      <td>741.156</td>\n    </tr>\n  </tbody>\n</table>\n<p>4383 rows × 4 columns</p>\n</div>"
     },
     "metadata": {},
     "execution_count": 4
    }
   ],
   "source": [
    "data = pd.read_csv(\"opsd_germany_daily.csv\")\n",
    "data['Date'] = pd.to_datetime(data['Date'])\n",
    "data = data.set_index('Date')\n",
    "data"
   ]
  },
  {
   "cell_type": "markdown",
   "metadata": {},
   "source": [
    "The data wrangling / cleaning has been done now we are going to move onto the feature engineering"
   ]
  },
  {
   "cell_type": "code",
   "execution_count": 5,
   "metadata": {},
   "outputs": [],
   "source": [
    "# creating new dataframe from consumption column\n",
    "data_consumption = data[['Consumption']]\n",
    "\n",
    "# inserting new column with yesterday's consumption values\n",
    "data_consumption.loc[:,'Yesterday'] = data_consumption.loc[:,'Consumption'].shift()\n",
    "\n",
    "# inserting another column with difference between yesterday and day before yesterday's consumption values.\n",
    "data_consumption.loc[:,'Yesterday_Diff'] = data_consumption.loc[:,'Yesterday'].diff()\n",
    "\n",
    "# dropping NAs\n",
    "data_consumption = data_consumption.dropna()"
   ]
  },
  {
   "cell_type": "code",
   "execution_count": 6,
   "metadata": {},
   "outputs": [],
   "source": [
    "X_train = data_consumption[:'2016'].drop(['Consumption'], axis = 1)\n",
    "y_train = data_consumption.loc[:'2016', 'Consumption']\n",
    "\n",
    "X_test = data_consumption['2017'].drop(['Consumption'], axis = 1)\n",
    "y_test = data_consumption.loc['2017', 'Consumption']"
   ]
  },
  {
   "cell_type": "code",
   "execution_count": 7,
   "metadata": {},
   "outputs": [],
   "source": [
    "from sklearn.model_selection import TimeSeriesSplit"
   ]
  },
  {
   "cell_type": "code",
   "execution_count": 10,
   "metadata": {},
   "outputs": [],
   "source": [
    "#that makes a copy\n",
    "data_consumption_2o = data_consumption.copy()\n",
    "\n",
    "#that makes a column called Yesterday-1 which is just the yersteday column shifted down 1 column\n",
    "data_consumption_2o['Yesterday-1'] = data_consumption_2o['Yesterday'].shift()\n",
    "\n",
    "data_consumption_2o['Yesterday-1_Diff'] = data_consumption_2o['Yesterday-1'].diff()\n",
    "\n",
    "#drop the NaS\n",
    "data_consumption_2o = data_consumption_2o.dropna()"
   ]
  },
  {
   "cell_type": "code",
   "execution_count": 11,
   "metadata": {},
   "outputs": [
    {
     "output_type": "execute_result",
     "data": {
      "text/plain": "            Consumption   Yesterday  Yesterday_Diff  Yesterday-1  \\\nDate                                                               \n2006-01-05   1477.13100  1457.21700        14.68400   1442.53300   \n2006-01-06   1403.42700  1477.13100        19.91400   1457.21700   \n2006-01-07   1300.28700  1403.42700       -73.70400   1477.13100   \n2006-01-08   1207.98500  1300.28700      -103.14000   1403.42700   \n2006-01-09   1529.32300  1207.98500       -92.30200   1300.28700   \n...                 ...         ...             ...          ...   \n2017-12-27   1263.94091  1130.11683        18.83345   1111.28338   \n2017-12-28   1299.86398  1263.94091       133.82408   1130.11683   \n2017-12-29   1295.08753  1299.86398        35.92307   1263.94091   \n2017-12-30   1215.44897  1295.08753        -4.77645   1299.86398   \n2017-12-31   1107.11488  1215.44897       -79.63856   1295.08753   \n\n            Yesterday-1_Diff  \nDate                          \n2006-01-05          62.01200  \n2006-01-06          14.68400  \n2006-01-07          19.91400  \n2006-01-08         -73.70400  \n2006-01-09        -103.14000  \n...                      ...  \n2017-12-27         -30.47392  \n2017-12-28          18.83345  \n2017-12-29         133.82408  \n2017-12-30          35.92307  \n2017-12-31          -4.77645  \n\n[4379 rows x 5 columns]",
      "text/html": "<div>\n<style scoped>\n    .dataframe tbody tr th:only-of-type {\n        vertical-align: middle;\n    }\n\n    .dataframe tbody tr th {\n        vertical-align: top;\n    }\n\n    .dataframe thead th {\n        text-align: right;\n    }\n</style>\n<table border=\"1\" class=\"dataframe\">\n  <thead>\n    <tr style=\"text-align: right;\">\n      <th></th>\n      <th>Consumption</th>\n      <th>Yesterday</th>\n      <th>Yesterday_Diff</th>\n      <th>Yesterday-1</th>\n      <th>Yesterday-1_Diff</th>\n    </tr>\n    <tr>\n      <th>Date</th>\n      <th></th>\n      <th></th>\n      <th></th>\n      <th></th>\n      <th></th>\n    </tr>\n  </thead>\n  <tbody>\n    <tr>\n      <th>2006-01-05</th>\n      <td>1477.13100</td>\n      <td>1457.21700</td>\n      <td>14.68400</td>\n      <td>1442.53300</td>\n      <td>62.01200</td>\n    </tr>\n    <tr>\n      <th>2006-01-06</th>\n      <td>1403.42700</td>\n      <td>1477.13100</td>\n      <td>19.91400</td>\n      <td>1457.21700</td>\n      <td>14.68400</td>\n    </tr>\n    <tr>\n      <th>2006-01-07</th>\n      <td>1300.28700</td>\n      <td>1403.42700</td>\n      <td>-73.70400</td>\n      <td>1477.13100</td>\n      <td>19.91400</td>\n    </tr>\n    <tr>\n      <th>2006-01-08</th>\n      <td>1207.98500</td>\n      <td>1300.28700</td>\n      <td>-103.14000</td>\n      <td>1403.42700</td>\n      <td>-73.70400</td>\n    </tr>\n    <tr>\n      <th>2006-01-09</th>\n      <td>1529.32300</td>\n      <td>1207.98500</td>\n      <td>-92.30200</td>\n      <td>1300.28700</td>\n      <td>-103.14000</td>\n    </tr>\n    <tr>\n      <th>...</th>\n      <td>...</td>\n      <td>...</td>\n      <td>...</td>\n      <td>...</td>\n      <td>...</td>\n    </tr>\n    <tr>\n      <th>2017-12-27</th>\n      <td>1263.94091</td>\n      <td>1130.11683</td>\n      <td>18.83345</td>\n      <td>1111.28338</td>\n      <td>-30.47392</td>\n    </tr>\n    <tr>\n      <th>2017-12-28</th>\n      <td>1299.86398</td>\n      <td>1263.94091</td>\n      <td>133.82408</td>\n      <td>1130.11683</td>\n      <td>18.83345</td>\n    </tr>\n    <tr>\n      <th>2017-12-29</th>\n      <td>1295.08753</td>\n      <td>1299.86398</td>\n      <td>35.92307</td>\n      <td>1263.94091</td>\n      <td>133.82408</td>\n    </tr>\n    <tr>\n      <th>2017-12-30</th>\n      <td>1215.44897</td>\n      <td>1295.08753</td>\n      <td>-4.77645</td>\n      <td>1299.86398</td>\n      <td>35.92307</td>\n    </tr>\n    <tr>\n      <th>2017-12-31</th>\n      <td>1107.11488</td>\n      <td>1215.44897</td>\n      <td>-79.63856</td>\n      <td>1295.08753</td>\n      <td>-4.77645</td>\n    </tr>\n  </tbody>\n</table>\n<p>4379 rows × 5 columns</p>\n</div>"
     },
     "metadata": {},
     "execution_count": 11
    }
   ],
   "source": [
    "data_consumption_2o"
   ]
  },
  {
   "cell_type": "code",
   "execution_count": 12,
   "metadata": {},
   "outputs": [],
   "source": [
    "X_train_2o = data_consumption_2o[:'2016'].drop(['Consumption'], axis = 1)\n",
    "y_train_2o = data_consumption_2o.loc[:\"2016\", 'Consumption']\n",
    "\n",
    "X_test = data_consumption_2o['2017'].drop(['Consumption'], axis = 1)\n",
    "y_test = data_consumption_2o.loc['2017', 'Consumption']"
   ]
  },
  {
   "cell_type": "code",
   "execution_count": 13,
   "metadata": {},
   "outputs": [],
   "source": [
    "from sklearn.ensemble import RandomForestRegressor"
   ]
  },
  {
   "cell_type": "code",
   "execution_count": 14,
   "metadata": {},
   "outputs": [],
   "source": [
    "model = RandomForestRegressor()\n",
    "\n",
    "param_search = {\n",
    "    'n_estimators': [20, 50, 100],\n",
    "    'max_features': ['auto', 'sqrt', 'log2'],\n",
    "    'max_depth': [i for i in range(5,15)]\n",
    "    }"
   ]
  },
  {
   "cell_type": "code",
   "execution_count": 20,
   "metadata": {},
   "outputs": [],
   "source": [
    "from sklearn.model_selection import GridSearchCV\n",
    "from sklearn.metrics import make_scorer\n",
    "import numpy as np"
   ]
  },
  {
   "cell_type": "code",
   "execution_count": 21,
   "metadata": {},
   "outputs": [],
   "source": [
    "def rmse(actual, predict):\n",
    "\n",
    "    predict = np.array(actual)\n",
    "    distance = predict - actual\n",
    "    square_distance = distance ** 2\n",
    "    mean_square_distance = square_distance.mean()\n",
    "    score = np.sqrt(mean_square_distance)\n",
    "    \n",
    "    return score"
   ]
  },
  {
   "cell_type": "code",
   "execution_count": 22,
   "metadata": {},
   "outputs": [],
   "source": [
    "rmse_score = make_scorer(rmse, greater_is_better = False)"
   ]
  },
  {
   "cell_type": "code",
   "execution_count": 26,
   "metadata": {},
   "outputs": [],
   "source": [
    "def regression_results(y_true, y_pred):\n",
    "# Regression metrics\n",
    "    explained_variance=metrics.explained_variance_score(y_true, y_pred)\n",
    "    mean_absolute_error=metrics.mean_absolute_error(y_true, y_pred) \n",
    "    mse=metrics.mean_squared_error(y_true, y_pred) \n",
    "    mean_squared_log_error=metrics.mean_squared_log_error(y_true, y_pred)\n",
    "    median_absolute_error=metrics.median_absolute_error(y_true, y_pred)\n",
    "    r2=metrics.r2_score(y_true, y_pred)\n",
    "    print('explained_variance: ', round(explained_variance,4))    \n",
    "    print('mean_squared_log_error: ', round(mean_squared_log_error,4))\n",
    "    print('r2: ', round(r2,4))\n",
    "    print('MAE: ', round(mean_absolute_error,4))\n",
    "    print('MSE: ', round(mse,4))\n",
    "    print('RMSE: ', round(np.sqrt(mse),4))"
   ]
  },
  {
   "cell_type": "code",
   "execution_count": 27,
   "metadata": {},
   "outputs": [
    {
     "output_type": "error",
     "ename": "NameError",
     "evalue": "name 'metrics' is not defined",
     "traceback": [
      "\u001b[1;31m---------------------------------------------------------------------------\u001b[0m",
      "\u001b[1;31mNameError\u001b[0m                                 Traceback (most recent call last)",
      "\u001b[1;32m<ipython-input-27-121fa8a49e63>\u001b[0m in \u001b[0;36m<module>\u001b[1;34m\u001b[0m\n\u001b[0;32m      9\u001b[0m \u001b[0my_pred\u001b[0m \u001b[1;33m=\u001b[0m \u001b[0mbest_model\u001b[0m\u001b[1;33m.\u001b[0m\u001b[0mpredict\u001b[0m\u001b[1;33m(\u001b[0m\u001b[0mX_test\u001b[0m\u001b[1;33m)\u001b[0m\u001b[1;33m\u001b[0m\u001b[1;33m\u001b[0m\u001b[0m\n\u001b[0;32m     10\u001b[0m \u001b[1;33m\u001b[0m\u001b[0m\n\u001b[1;32m---> 11\u001b[1;33m \u001b[0mregression_results\u001b[0m\u001b[1;33m(\u001b[0m\u001b[0my_true\u001b[0m\u001b[1;33m,\u001b[0m \u001b[0my_pred\u001b[0m\u001b[1;33m)\u001b[0m\u001b[1;33m\u001b[0m\u001b[1;33m\u001b[0m\u001b[0m\n\u001b[0m",
      "\u001b[1;32m<ipython-input-26-5a660576e113>\u001b[0m in \u001b[0;36mregression_results\u001b[1;34m(y_true, y_pred)\u001b[0m\n\u001b[0;32m      1\u001b[0m \u001b[1;32mdef\u001b[0m \u001b[0mregression_results\u001b[0m\u001b[1;33m(\u001b[0m\u001b[0my_true\u001b[0m\u001b[1;33m,\u001b[0m \u001b[0my_pred\u001b[0m\u001b[1;33m)\u001b[0m\u001b[1;33m:\u001b[0m\u001b[1;33m\u001b[0m\u001b[1;33m\u001b[0m\u001b[0m\n\u001b[0;32m      2\u001b[0m \u001b[1;31m# Regression metrics\u001b[0m\u001b[1;33m\u001b[0m\u001b[1;33m\u001b[0m\u001b[1;33m\u001b[0m\u001b[0m\n\u001b[1;32m----> 3\u001b[1;33m     \u001b[0mexplained_variance\u001b[0m\u001b[1;33m=\u001b[0m\u001b[0mmetrics\u001b[0m\u001b[1;33m.\u001b[0m\u001b[0mexplained_variance_score\u001b[0m\u001b[1;33m(\u001b[0m\u001b[0my_true\u001b[0m\u001b[1;33m,\u001b[0m \u001b[0my_pred\u001b[0m\u001b[1;33m)\u001b[0m\u001b[1;33m\u001b[0m\u001b[1;33m\u001b[0m\u001b[0m\n\u001b[0m\u001b[0;32m      4\u001b[0m     \u001b[0mmean_absolute_error\u001b[0m\u001b[1;33m=\u001b[0m\u001b[0mmetrics\u001b[0m\u001b[1;33m.\u001b[0m\u001b[0mmean_absolute_error\u001b[0m\u001b[1;33m(\u001b[0m\u001b[0my_true\u001b[0m\u001b[1;33m,\u001b[0m \u001b[0my_pred\u001b[0m\u001b[1;33m)\u001b[0m\u001b[1;33m\u001b[0m\u001b[1;33m\u001b[0m\u001b[0m\n\u001b[0;32m      5\u001b[0m     \u001b[0mmse\u001b[0m\u001b[1;33m=\u001b[0m\u001b[0mmetrics\u001b[0m\u001b[1;33m.\u001b[0m\u001b[0mmean_squared_error\u001b[0m\u001b[1;33m(\u001b[0m\u001b[0my_true\u001b[0m\u001b[1;33m,\u001b[0m \u001b[0my_pred\u001b[0m\u001b[1;33m)\u001b[0m\u001b[1;33m\u001b[0m\u001b[1;33m\u001b[0m\u001b[0m\n",
      "\u001b[1;31mNameError\u001b[0m: name 'metrics' is not defined"
     ]
    }
   ],
   "source": [
    "tscv = TimeSeriesSplit(n_splits = 10)\n",
    "gsearch = GridSearchCV(estimator = model, cv = tscv, param_grid = param_search, scoring = rmse_score)\n",
    "\n",
    "gsearch.fit(X_train_2o, y_train_2o)\n",
    "best_score = gsearch.best_score_\n",
    "best_model = gsearch.best_estimator_\n",
    "\n",
    "y_true = y_test.values\n",
    "y_pred = best_model.predict(X_test)\n",
    "\n",
    "regression_results(y_true, y_pred)"
   ]
  },
  {
   "cell_type": "code",
   "execution_count": null,
   "metadata": {},
   "outputs": [],
   "source": []
  }
 ]
}